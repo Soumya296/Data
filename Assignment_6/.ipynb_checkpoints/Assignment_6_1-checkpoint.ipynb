{
 "cells": [
  {
   "cell_type": "markdown",
   "id": "d4e2ca96",
   "metadata": {},
   "source": [
    "### Q1>\n",
    "### Write a python program to implement Logistic Regression for multiclass classification from scratch\n",
    "### using the following dataset.\n",
    "### Link: https://www.kaggle.com/uciml/iris"
   ]
  },
  {
   "cell_type": "markdown",
   "id": "a3596133",
   "metadata": {},
   "source": [
    "#### Dependencies and Libraries import"
   ]
  },
  {
   "cell_type": "code",
   "execution_count": 119,
   "id": "17298ca7",
   "metadata": {},
   "outputs": [],
   "source": [
    "import pandas as pd\n",
    "import numpy as np\n",
    "import matplotlib.pyplot as plt\n",
    "from sklearn.preprocessing import StandardScaler\n",
    "from sklearn.model_selection import train_test_split"
   ]
  },
  {
   "cell_type": "markdown",
   "id": "e2e09ac2",
   "metadata": {},
   "source": [
    "#### Import Dataset"
   ]
  },
  {
   "cell_type": "code",
   "execution_count": 120,
   "id": "1f787392",
   "metadata": {},
   "outputs": [
    {
     "data": {
      "text/html": [
       "<div>\n",
       "<style scoped>\n",
       "    .dataframe tbody tr th:only-of-type {\n",
       "        vertical-align: middle;\n",
       "    }\n",
       "\n",
       "    .dataframe tbody tr th {\n",
       "        vertical-align: top;\n",
       "    }\n",
       "\n",
       "    .dataframe thead th {\n",
       "        text-align: right;\n",
       "    }\n",
       "</style>\n",
       "<table border=\"1\" class=\"dataframe\">\n",
       "  <thead>\n",
       "    <tr style=\"text-align: right;\">\n",
       "      <th></th>\n",
       "      <th>SepalLengthCm</th>\n",
       "      <th>SepalWidthCm</th>\n",
       "      <th>PetalLengthCm</th>\n",
       "      <th>PetalWidthCm</th>\n",
       "      <th>Species</th>\n",
       "    </tr>\n",
       "  </thead>\n",
       "  <tbody>\n",
       "    <tr>\n",
       "      <th>0</th>\n",
       "      <td>5.5</td>\n",
       "      <td>2.6</td>\n",
       "      <td>4.4</td>\n",
       "      <td>1.2</td>\n",
       "      <td>Iris-versicolor</td>\n",
       "    </tr>\n",
       "    <tr>\n",
       "      <th>1</th>\n",
       "      <td>5.8</td>\n",
       "      <td>2.8</td>\n",
       "      <td>5.1</td>\n",
       "      <td>2.4</td>\n",
       "      <td>Iris-virginica</td>\n",
       "    </tr>\n",
       "    <tr>\n",
       "      <th>2</th>\n",
       "      <td>6.5</td>\n",
       "      <td>3.0</td>\n",
       "      <td>5.8</td>\n",
       "      <td>2.2</td>\n",
       "      <td>Iris-virginica</td>\n",
       "    </tr>\n",
       "    <tr>\n",
       "      <th>3</th>\n",
       "      <td>6.0</td>\n",
       "      <td>3.0</td>\n",
       "      <td>4.8</td>\n",
       "      <td>1.8</td>\n",
       "      <td>Iris-virginica</td>\n",
       "    </tr>\n",
       "    <tr>\n",
       "      <th>4</th>\n",
       "      <td>5.1</td>\n",
       "      <td>3.8</td>\n",
       "      <td>1.6</td>\n",
       "      <td>0.2</td>\n",
       "      <td>Iris-setosa</td>\n",
       "    </tr>\n",
       "  </tbody>\n",
       "</table>\n",
       "</div>"
      ],
      "text/plain": [
       "   SepalLengthCm  SepalWidthCm  PetalLengthCm  PetalWidthCm          Species\n",
       "0            5.5           2.6            4.4           1.2  Iris-versicolor\n",
       "1            5.8           2.8            5.1           2.4   Iris-virginica\n",
       "2            6.5           3.0            5.8           2.2   Iris-virginica\n",
       "3            6.0           3.0            4.8           1.8   Iris-virginica\n",
       "4            5.1           3.8            1.6           0.2      Iris-setosa"
      ]
     },
     "execution_count": 120,
     "metadata": {},
     "output_type": "execute_result"
    }
   ],
   "source": [
    "data = pd.read_csv('Iris.csv',index_col='Id')\n",
    "data = data.sample(frac=1).reset_index(drop = True)\n",
    "data.head()"
   ]
  },
  {
   "cell_type": "code",
   "execution_count": 121,
   "id": "a4e89561",
   "metadata": {},
   "outputs": [
    {
     "name": "stdout",
     "output_type": "stream",
     "text": [
      "The number of rows in this dataset is :  150\n"
     ]
    }
   ],
   "source": [
    "m = data.shape[0]\n",
    "print(\"The number of rows in this dataset is : \",m)"
   ]
  },
  {
   "cell_type": "code",
   "execution_count": 122,
   "id": "81558839",
   "metadata": {},
   "outputs": [
    {
     "name": "stdout",
     "output_type": "stream",
     "text": [
      "The number of features in this dataset is :  4\n"
     ]
    }
   ],
   "source": [
    "n = data.shape[1]\n",
    "print(\"The number of features in this dataset is : \",n-1)"
   ]
  },
  {
   "cell_type": "markdown",
   "id": "7dac1ed7",
   "metadata": {},
   "source": [
    "#### Categorizing Data"
   ]
  },
  {
   "cell_type": "code",
   "execution_count": 123,
   "id": "4343dd78",
   "metadata": {},
   "outputs": [
    {
     "data": {
      "text/plain": [
       "(150, 3)"
      ]
     },
     "execution_count": 123,
     "metadata": {},
     "output_type": "execute_result"
    }
   ],
   "source": [
    "target = pd.get_dummies(data['Species'])\n",
    "target.shape"
   ]
  },
  {
   "cell_type": "code",
   "execution_count": 124,
   "id": "254b12fc",
   "metadata": {},
   "outputs": [
    {
     "data": {
      "text/html": [
       "<div>\n",
       "<style scoped>\n",
       "    .dataframe tbody tr th:only-of-type {\n",
       "        vertical-align: middle;\n",
       "    }\n",
       "\n",
       "    .dataframe tbody tr th {\n",
       "        vertical-align: top;\n",
       "    }\n",
       "\n",
       "    .dataframe thead th {\n",
       "        text-align: right;\n",
       "    }\n",
       "</style>\n",
       "<table border=\"1\" class=\"dataframe\">\n",
       "  <thead>\n",
       "    <tr style=\"text-align: right;\">\n",
       "      <th></th>\n",
       "      <th>Iris-setosa</th>\n",
       "      <th>Iris-versicolor</th>\n",
       "      <th>Iris-virginica</th>\n",
       "    </tr>\n",
       "  </thead>\n",
       "  <tbody>\n",
       "    <tr>\n",
       "      <th>0</th>\n",
       "      <td>0</td>\n",
       "      <td>1</td>\n",
       "      <td>0</td>\n",
       "    </tr>\n",
       "    <tr>\n",
       "      <th>1</th>\n",
       "      <td>0</td>\n",
       "      <td>0</td>\n",
       "      <td>1</td>\n",
       "    </tr>\n",
       "    <tr>\n",
       "      <th>2</th>\n",
       "      <td>0</td>\n",
       "      <td>0</td>\n",
       "      <td>1</td>\n",
       "    </tr>\n",
       "    <tr>\n",
       "      <th>3</th>\n",
       "      <td>0</td>\n",
       "      <td>0</td>\n",
       "      <td>1</td>\n",
       "    </tr>\n",
       "    <tr>\n",
       "      <th>4</th>\n",
       "      <td>1</td>\n",
       "      <td>0</td>\n",
       "      <td>0</td>\n",
       "    </tr>\n",
       "    <tr>\n",
       "      <th>...</th>\n",
       "      <td>...</td>\n",
       "      <td>...</td>\n",
       "      <td>...</td>\n",
       "    </tr>\n",
       "    <tr>\n",
       "      <th>145</th>\n",
       "      <td>0</td>\n",
       "      <td>1</td>\n",
       "      <td>0</td>\n",
       "    </tr>\n",
       "    <tr>\n",
       "      <th>146</th>\n",
       "      <td>0</td>\n",
       "      <td>0</td>\n",
       "      <td>1</td>\n",
       "    </tr>\n",
       "    <tr>\n",
       "      <th>147</th>\n",
       "      <td>1</td>\n",
       "      <td>0</td>\n",
       "      <td>0</td>\n",
       "    </tr>\n",
       "    <tr>\n",
       "      <th>148</th>\n",
       "      <td>0</td>\n",
       "      <td>1</td>\n",
       "      <td>0</td>\n",
       "    </tr>\n",
       "    <tr>\n",
       "      <th>149</th>\n",
       "      <td>0</td>\n",
       "      <td>0</td>\n",
       "      <td>1</td>\n",
       "    </tr>\n",
       "  </tbody>\n",
       "</table>\n",
       "<p>150 rows × 3 columns</p>\n",
       "</div>"
      ],
      "text/plain": [
       "     Iris-setosa  Iris-versicolor  Iris-virginica\n",
       "0              0                1               0\n",
       "1              0                0               1\n",
       "2              0                0               1\n",
       "3              0                0               1\n",
       "4              1                0               0\n",
       "..           ...              ...             ...\n",
       "145            0                1               0\n",
       "146            0                0               1\n",
       "147            1                0               0\n",
       "148            0                1               0\n",
       "149            0                0               1\n",
       "\n",
       "[150 rows x 3 columns]"
      ]
     },
     "execution_count": 124,
     "metadata": {},
     "output_type": "execute_result"
    }
   ],
   "source": [
    "target"
   ]
  },
  {
   "cell_type": "code",
   "execution_count": 125,
   "id": "41442f12",
   "metadata": {},
   "outputs": [
    {
     "data": {
      "text/html": [
       "<div>\n",
       "<style scoped>\n",
       "    .dataframe tbody tr th:only-of-type {\n",
       "        vertical-align: middle;\n",
       "    }\n",
       "\n",
       "    .dataframe tbody tr th {\n",
       "        vertical-align: top;\n",
       "    }\n",
       "\n",
       "    .dataframe thead th {\n",
       "        text-align: right;\n",
       "    }\n",
       "</style>\n",
       "<table border=\"1\" class=\"dataframe\">\n",
       "  <thead>\n",
       "    <tr style=\"text-align: right;\">\n",
       "      <th></th>\n",
       "      <th>SepalLengthCm</th>\n",
       "      <th>SepalWidthCm</th>\n",
       "      <th>PetalLengthCm</th>\n",
       "      <th>PetalWidthCm</th>\n",
       "    </tr>\n",
       "  </thead>\n",
       "  <tbody>\n",
       "    <tr>\n",
       "      <th>0</th>\n",
       "      <td>5.5</td>\n",
       "      <td>2.6</td>\n",
       "      <td>4.4</td>\n",
       "      <td>1.2</td>\n",
       "    </tr>\n",
       "    <tr>\n",
       "      <th>1</th>\n",
       "      <td>5.8</td>\n",
       "      <td>2.8</td>\n",
       "      <td>5.1</td>\n",
       "      <td>2.4</td>\n",
       "    </tr>\n",
       "    <tr>\n",
       "      <th>2</th>\n",
       "      <td>6.5</td>\n",
       "      <td>3.0</td>\n",
       "      <td>5.8</td>\n",
       "      <td>2.2</td>\n",
       "    </tr>\n",
       "    <tr>\n",
       "      <th>3</th>\n",
       "      <td>6.0</td>\n",
       "      <td>3.0</td>\n",
       "      <td>4.8</td>\n",
       "      <td>1.8</td>\n",
       "    </tr>\n",
       "    <tr>\n",
       "      <th>4</th>\n",
       "      <td>5.1</td>\n",
       "      <td>3.8</td>\n",
       "      <td>1.6</td>\n",
       "      <td>0.2</td>\n",
       "    </tr>\n",
       "  </tbody>\n",
       "</table>\n",
       "</div>"
      ],
      "text/plain": [
       "   SepalLengthCm  SepalWidthCm  PetalLengthCm  PetalWidthCm\n",
       "0            5.5           2.6            4.4           1.2\n",
       "1            5.8           2.8            5.1           2.4\n",
       "2            6.5           3.0            5.8           2.2\n",
       "3            6.0           3.0            4.8           1.8\n",
       "4            5.1           3.8            1.6           0.2"
      ]
     },
     "execution_count": 125,
     "metadata": {},
     "output_type": "execute_result"
    }
   ],
   "source": [
    "data.drop(labels = \"Species\", axis =1, inplace =True)\n",
    "data.head()"
   ]
  },
  {
   "cell_type": "markdown",
   "id": "e5c4f676",
   "metadata": {},
   "source": [
    "#### Normalizing Data"
   ]
  },
  {
   "cell_type": "code",
   "execution_count": 126,
   "id": "3ca919fd",
   "metadata": {},
   "outputs": [
    {
     "data": {
      "text/html": [
       "<div>\n",
       "<style scoped>\n",
       "    .dataframe tbody tr th:only-of-type {\n",
       "        vertical-align: middle;\n",
       "    }\n",
       "\n",
       "    .dataframe tbody tr th {\n",
       "        vertical-align: top;\n",
       "    }\n",
       "\n",
       "    .dataframe thead th {\n",
       "        text-align: right;\n",
       "    }\n",
       "</style>\n",
       "<table border=\"1\" class=\"dataframe\">\n",
       "  <thead>\n",
       "    <tr style=\"text-align: right;\">\n",
       "      <th></th>\n",
       "      <th>SepalLengthCm</th>\n",
       "      <th>SepalWidthCm</th>\n",
       "      <th>PetalLengthCm</th>\n",
       "      <th>PetalWidthCm</th>\n",
       "    </tr>\n",
       "  </thead>\n",
       "  <tbody>\n",
       "    <tr>\n",
       "      <th>0</th>\n",
       "      <td>-0.416010</td>\n",
       "      <td>-1.050569</td>\n",
       "      <td>0.364699</td>\n",
       "      <td>0.001753</td>\n",
       "    </tr>\n",
       "    <tr>\n",
       "      <th>1</th>\n",
       "      <td>-0.052506</td>\n",
       "      <td>-0.587764</td>\n",
       "      <td>0.762759</td>\n",
       "      <td>1.579429</td>\n",
       "    </tr>\n",
       "    <tr>\n",
       "      <th>2</th>\n",
       "      <td>0.795669</td>\n",
       "      <td>-0.124958</td>\n",
       "      <td>1.160819</td>\n",
       "      <td>1.316483</td>\n",
       "    </tr>\n",
       "    <tr>\n",
       "      <th>3</th>\n",
       "      <td>0.189830</td>\n",
       "      <td>-0.124958</td>\n",
       "      <td>0.592162</td>\n",
       "      <td>0.790591</td>\n",
       "    </tr>\n",
       "    <tr>\n",
       "      <th>4</th>\n",
       "      <td>-0.900681</td>\n",
       "      <td>1.726266</td>\n",
       "      <td>-1.227541</td>\n",
       "      <td>-1.312977</td>\n",
       "    </tr>\n",
       "    <tr>\n",
       "      <th>...</th>\n",
       "      <td>...</td>\n",
       "      <td>...</td>\n",
       "      <td>...</td>\n",
       "      <td>...</td>\n",
       "    </tr>\n",
       "    <tr>\n",
       "      <th>145</th>\n",
       "      <td>0.068662</td>\n",
       "      <td>-0.124958</td>\n",
       "      <td>0.250967</td>\n",
       "      <td>0.396172</td>\n",
       "    </tr>\n",
       "    <tr>\n",
       "      <th>146</th>\n",
       "      <td>-0.294842</td>\n",
       "      <td>-0.587764</td>\n",
       "      <td>0.649027</td>\n",
       "      <td>1.053537</td>\n",
       "    </tr>\n",
       "    <tr>\n",
       "      <th>147</th>\n",
       "      <td>-1.870024</td>\n",
       "      <td>-0.124958</td>\n",
       "      <td>-1.511870</td>\n",
       "      <td>-1.444450</td>\n",
       "    </tr>\n",
       "    <tr>\n",
       "      <th>148</th>\n",
       "      <td>0.916837</td>\n",
       "      <td>-0.356361</td>\n",
       "      <td>0.478430</td>\n",
       "      <td>0.133226</td>\n",
       "    </tr>\n",
       "    <tr>\n",
       "      <th>149</th>\n",
       "      <td>0.432165</td>\n",
       "      <td>0.800654</td>\n",
       "      <td>0.933356</td>\n",
       "      <td>1.447956</td>\n",
       "    </tr>\n",
       "  </tbody>\n",
       "</table>\n",
       "<p>150 rows × 4 columns</p>\n",
       "</div>"
      ],
      "text/plain": [
       "     SepalLengthCm  SepalWidthCm  PetalLengthCm  PetalWidthCm\n",
       "0        -0.416010     -1.050569       0.364699      0.001753\n",
       "1        -0.052506     -0.587764       0.762759      1.579429\n",
       "2         0.795669     -0.124958       1.160819      1.316483\n",
       "3         0.189830     -0.124958       0.592162      0.790591\n",
       "4        -0.900681      1.726266      -1.227541     -1.312977\n",
       "..             ...           ...            ...           ...\n",
       "145       0.068662     -0.124958       0.250967      0.396172\n",
       "146      -0.294842     -0.587764       0.649027      1.053537\n",
       "147      -1.870024     -0.124958      -1.511870     -1.444450\n",
       "148       0.916837     -0.356361       0.478430      0.133226\n",
       "149       0.432165      0.800654       0.933356      1.447956\n",
       "\n",
       "[150 rows x 4 columns]"
      ]
     },
     "execution_count": 126,
     "metadata": {},
     "output_type": "execute_result"
    }
   ],
   "source": [
    "scaler = StandardScaler()\n",
    "data = pd.DataFrame(scaler.fit_transform(data), columns=data.columns)\n",
    "data"
   ]
  },
  {
   "cell_type": "code",
   "execution_count": 127,
   "id": "202bd6c6",
   "metadata": {},
   "outputs": [],
   "source": [
    "X_train, X_test, Y_train, Y_test = train_test_split(data,target,test_size=0.2)"
   ]
  },
  {
   "cell_type": "code",
   "execution_count": 128,
   "id": "0c41a4d5",
   "metadata": {},
   "outputs": [
    {
     "name": "stdout",
     "output_type": "stream",
     "text": [
      "The shape of the X_train : (120, 4)\n",
      "The shape of the Y_train : (120, 3)\n",
      "The shape of the X_test : (30, 4)\n",
      "The shape of the Y_test : (30, 3)\n"
     ]
    }
   ],
   "source": [
    "X_train = X_train.to_numpy()\n",
    "X_test = X_test.to_numpy()\n",
    "Y_train = Y_train.to_numpy()\n",
    "Y_test = Y_test.to_numpy()\n",
    "print(\"The shape of the X_train : {}\".format(X_train.shape))\n",
    "print(\"The shape of the Y_train : {}\".format(Y_train.shape))\n",
    "print(\"The shape of the X_test : {}\".format(X_test.shape))\n",
    "print(\"The shape of the Y_test : {}\".format(Y_test.shape))"
   ]
  },
  {
   "cell_type": "markdown",
   "id": "72024274",
   "metadata": {},
   "source": [
    "#### Initialize parameters"
   ]
  },
  {
   "cell_type": "code",
   "execution_count": 129,
   "id": "49fd5e78",
   "metadata": {},
   "outputs": [
    {
     "name": "stdout",
     "output_type": "stream",
     "text": [
      "(4,)\n",
      "(3,)\n"
     ]
    }
   ],
   "source": [
    "nc=3  ###### this represent numbers of classes here\n",
    "theta=np.zeros((nc,n-1)) ##### weight parameters for classes\n",
    "print(theta[0].shape)\n",
    "bias = np.zeros(nc) ###### bias for classes\n",
    "print(bias.shape)"
   ]
  },
  {
   "cell_type": "code",
   "execution_count": 148,
   "id": "91dec318",
   "metadata": {},
   "outputs": [
    {
     "name": "stdout",
     "output_type": "stream",
     "text": [
      "(120, 4)\n",
      "(4,)\n"
     ]
    }
   ],
   "source": [
    "def gradientdescent(x,y,w,b):\n",
    "    epochs = 10000  ## we run it for 2000 times\n",
    "    learning_rate = 0.0002  ## we set the learning_rate at 0.02\n",
    "\n",
    "    ## so in every iteration of inner loop we update the weights for that particular class\n",
    "    ## considering it to be binary classification with respect to other classes\n",
    "\n",
    "    for i in range(epochs):\n",
    "        for j in range(nc):\n",
    "            z = b[j]+np.dot(x,w[j])\n",
    "            temp1 = 1/(1+np.exp(-z))  ## this is basically the sigmoid function\n",
    "            temp2 = np.array(y[:int(0.8*m),j])\n",
    "            loss = temp1-temp2\n",
    "            weight_grad = np.dot(x.T,loss)/m  ## we calculate the weight gradient and bias gradient\n",
    "            bias_grad = np.sum(loss)/m\n",
    "            w[j] = w[j]-weight_grad*learning_rate  ## we find weights for all 3 classes\n",
    "            b[j] = b[j]-bias_grad*learning_rate    ## we find bias for all 3 classes\n",
    "    return w,b\n",
    "print(X_train.shape)\n",
    "print(theta[0].shape)\n",
    "theta,bias=gradientdescent(X_train,Y_train,theta,bias)"
   ]
  },
  {
   "cell_type": "code",
   "execution_count": 143,
   "id": "83b9e333",
   "metadata": {},
   "outputs": [],
   "source": [
    "def findmaxprob(arr):\n",
    "    m=arr[0]\n",
    "    index=0\n",
    "    for i in range(len(arr)):\n",
    "        if(arr[i]>m):\n",
    "            m=arr[i]\n",
    "            index=i\n",
    "    return index"
   ]
  },
  {
   "cell_type": "code",
   "execution_count": 144,
   "id": "3042ece6",
   "metadata": {},
   "outputs": [],
   "source": [
    "def predict(x,w,b):\n",
    "    res=[]\n",
    "    for j in range(len(x)):\n",
    "        pc=[]  ## this array stores probability of that particular row for all classes\n",
    "        for i in range(nc):  ## we find its probability in each class\n",
    "            z=b[i]+np.dot(x[j],w[i]) \n",
    "            prob=1/(1+np.exp(-z))\n",
    "            pc.append(prob)\n",
    "        index=findmaxprob(pc)  ## the index which has max probability will be allotted the class\n",
    "        res.append(index)\n",
    "    res = np.array(res)\n",
    "    return np.eye(np.max(res) + 1)[res]"
   ]
  },
  {
   "cell_type": "code",
   "execution_count": 145,
   "id": "18c7debd",
   "metadata": {},
   "outputs": [],
   "source": [
    "def findaccuracy(actual_res,calc_res):\n",
    "    l=len(actual_res)\n",
    "    acc=0\n",
    "    for i in range(len(actual_res)):\n",
    "        if(calc_res[i].all()==actual_res[i].all()): #where the prediction matches the true class\n",
    "            acc=acc+1\n",
    "    return float(acc/l*100.0)"
   ]
  },
  {
   "cell_type": "code",
   "execution_count": 146,
   "id": "fbd44832",
   "metadata": {},
   "outputs": [
    {
     "name": "stdout",
     "output_type": "stream",
     "text": [
      "The weights for measuring class1 against all is :  [-0.46164017  0.47941622 -0.65336565 -0.61667244]\n",
      "The weights for measuring class2 against all is :  [-0.00663819 -0.47425656  0.11859755  0.02446715]\n",
      "The weights for measuring class3 against all is :  [0.43383372 0.01623339 0.50051021 0.57182425]\n",
      "The resultant array is :  [[1. 0. 0.]\n",
      " [1. 0. 0.]\n",
      " [1. 0. 0.]\n",
      " [0. 0. 1.]\n",
      " [0. 1. 0.]\n",
      " [1. 0. 0.]\n",
      " [1. 0. 0.]\n",
      " [1. 0. 0.]\n",
      " [1. 0. 0.]\n",
      " [0. 0. 1.]\n",
      " [0. 0. 1.]\n",
      " [1. 0. 0.]\n",
      " [0. 1. 0.]\n",
      " [0. 0. 1.]\n",
      " [0. 0. 1.]\n",
      " [0. 0. 1.]\n",
      " [0. 0. 1.]\n",
      " [0. 1. 0.]\n",
      " [0. 0. 1.]\n",
      " [0. 0. 1.]\n",
      " [0. 1. 0.]\n",
      " [1. 0. 0.]\n",
      " [0. 0. 1.]\n",
      " [0. 0. 1.]\n",
      " [0. 0. 1.]\n",
      " [0. 1. 0.]\n",
      " [0. 0. 1.]\n",
      " [0. 0. 1.]\n",
      " [0. 1. 0.]\n",
      " [0. 0. 1.]]\n",
      "The actual result is :  [[1 0 0]\n",
      " [1 0 0]\n",
      " [1 0 0]\n",
      " [0 0 1]\n",
      " [0 1 0]\n",
      " [1 0 0]\n",
      " [1 0 0]\n",
      " [1 0 0]\n",
      " [1 0 0]\n",
      " [0 0 1]\n",
      " [0 0 1]\n",
      " [1 0 0]\n",
      " [0 1 0]\n",
      " [0 1 0]\n",
      " [0 0 1]\n",
      " [0 1 0]\n",
      " [0 0 1]\n",
      " [0 1 0]\n",
      " [0 0 1]\n",
      " [0 0 1]\n",
      " [0 1 0]\n",
      " [1 0 0]\n",
      " [0 0 1]\n",
      " [0 1 0]\n",
      " [0 1 0]\n",
      " [0 1 0]\n",
      " [0 1 0]\n",
      " [0 1 0]\n",
      " [0 1 0]\n",
      " [0 0 1]]\n",
      "The accuracy is : 100.0 %\n"
     ]
    }
   ],
   "source": [
    "res=predict(X_test,theta,bias)\n",
    "print(\"The weights for measuring class1 against all is : \",theta[0])\n",
    "print(\"The weights for measuring class2 against all is : \",theta[1])\n",
    "print(\"The weights for measuring class3 against all is : \",theta[2])\n",
    "print(\"The resultant array is : \",res)\n",
    "print(\"The actual result is : \",Y_test)\n",
    "accuracy=findaccuracy(Y_test,res)\n",
    "print(\"The accuracy is : {} %\".format(accuracy))"
   ]
  }
 ],
 "metadata": {
  "kernelspec": {
   "display_name": "Python 3",
   "language": "python",
   "name": "python3"
  },
  "language_info": {
   "codemirror_mode": {
    "name": "ipython",
    "version": 3
   },
   "file_extension": ".py",
   "mimetype": "text/x-python",
   "name": "python",
   "nbconvert_exporter": "python",
   "pygments_lexer": "ipython3",
   "version": "3.8.8"
  }
 },
 "nbformat": 4,
 "nbformat_minor": 5
}
