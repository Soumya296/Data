{
 "cells": [
  {
   "cell_type": "markdown",
   "metadata": {
    "id": "aF3bZfc3tyv-"
   },
   "source": [
    "Implement neural network from scratch using python for the following datasets and predict the values for the following datasets:\n",
    "1. Boston House prices dataset: https://www.kaggle.com/vikrishnan/boston-house-prices\n"
   ]
  },
  {
   "cell_type": "markdown",
   "metadata": {},
   "source": [
    "### Importing Libraries"
   ]
  },
  {
   "cell_type": "code",
   "execution_count": 15,
   "metadata": {},
   "outputs": [],
   "source": [
    "import pandas as pd\n",
    "import numpy as np\n",
    "import io\n",
    "import matplotlib.pyplot as plt\n",
    "from sklearn.metrics import mean_squared_error\n",
    "from sklearn.preprocessing import StandardScaler\n",
    "from sklearn.model_selection import train_test_split\n",
    "%matplotlib inline"
   ]
  },
  {
   "cell_type": "markdown",
   "metadata": {},
   "source": [
    "### Reading the Dataset"
   ]
  },
  {
   "cell_type": "code",
   "execution_count": 16,
   "metadata": {},
   "outputs": [
    {
     "data": {
      "text/html": [
       "<div>\n",
       "<style scoped>\n",
       "    .dataframe tbody tr th:only-of-type {\n",
       "        vertical-align: middle;\n",
       "    }\n",
       "\n",
       "    .dataframe tbody tr th {\n",
       "        vertical-align: top;\n",
       "    }\n",
       "\n",
       "    .dataframe thead th {\n",
       "        text-align: right;\n",
       "    }\n",
       "</style>\n",
       "<table border=\"1\" class=\"dataframe\">\n",
       "  <thead>\n",
       "    <tr style=\"text-align: right;\">\n",
       "      <th></th>\n",
       "      <th>CRIM</th>\n",
       "      <th>ZN</th>\n",
       "      <th>INDUS</th>\n",
       "      <th>CHAS</th>\n",
       "      <th>NOX</th>\n",
       "      <th>RM</th>\n",
       "      <th>AGE</th>\n",
       "      <th>DIS</th>\n",
       "      <th>RAD</th>\n",
       "      <th>TAX</th>\n",
       "      <th>PTRATIO</th>\n",
       "      <th>B</th>\n",
       "      <th>LSTAT</th>\n",
       "      <th>MEDV</th>\n",
       "    </tr>\n",
       "  </thead>\n",
       "  <tbody>\n",
       "    <tr>\n",
       "      <th>0</th>\n",
       "      <td>0.00632</td>\n",
       "      <td>18.0</td>\n",
       "      <td>2.31</td>\n",
       "      <td>0</td>\n",
       "      <td>0.538</td>\n",
       "      <td>6.575</td>\n",
       "      <td>65.2</td>\n",
       "      <td>4.0900</td>\n",
       "      <td>1</td>\n",
       "      <td>296.0</td>\n",
       "      <td>15.3</td>\n",
       "      <td>396.90</td>\n",
       "      <td>4.98</td>\n",
       "      <td>24.0</td>\n",
       "    </tr>\n",
       "    <tr>\n",
       "      <th>1</th>\n",
       "      <td>0.02731</td>\n",
       "      <td>0.0</td>\n",
       "      <td>7.07</td>\n",
       "      <td>0</td>\n",
       "      <td>0.469</td>\n",
       "      <td>6.421</td>\n",
       "      <td>78.9</td>\n",
       "      <td>4.9671</td>\n",
       "      <td>2</td>\n",
       "      <td>242.0</td>\n",
       "      <td>17.8</td>\n",
       "      <td>396.90</td>\n",
       "      <td>9.14</td>\n",
       "      <td>21.6</td>\n",
       "    </tr>\n",
       "    <tr>\n",
       "      <th>2</th>\n",
       "      <td>0.02729</td>\n",
       "      <td>0.0</td>\n",
       "      <td>7.07</td>\n",
       "      <td>0</td>\n",
       "      <td>0.469</td>\n",
       "      <td>7.185</td>\n",
       "      <td>61.1</td>\n",
       "      <td>4.9671</td>\n",
       "      <td>2</td>\n",
       "      <td>242.0</td>\n",
       "      <td>17.8</td>\n",
       "      <td>392.83</td>\n",
       "      <td>4.03</td>\n",
       "      <td>34.7</td>\n",
       "    </tr>\n",
       "    <tr>\n",
       "      <th>3</th>\n",
       "      <td>0.03237</td>\n",
       "      <td>0.0</td>\n",
       "      <td>2.18</td>\n",
       "      <td>0</td>\n",
       "      <td>0.458</td>\n",
       "      <td>6.998</td>\n",
       "      <td>45.8</td>\n",
       "      <td>6.0622</td>\n",
       "      <td>3</td>\n",
       "      <td>222.0</td>\n",
       "      <td>18.7</td>\n",
       "      <td>394.63</td>\n",
       "      <td>2.94</td>\n",
       "      <td>33.4</td>\n",
       "    </tr>\n",
       "    <tr>\n",
       "      <th>4</th>\n",
       "      <td>0.06905</td>\n",
       "      <td>0.0</td>\n",
       "      <td>2.18</td>\n",
       "      <td>0</td>\n",
       "      <td>0.458</td>\n",
       "      <td>7.147</td>\n",
       "      <td>54.2</td>\n",
       "      <td>6.0622</td>\n",
       "      <td>3</td>\n",
       "      <td>222.0</td>\n",
       "      <td>18.7</td>\n",
       "      <td>396.90</td>\n",
       "      <td>5.33</td>\n",
       "      <td>36.2</td>\n",
       "    </tr>\n",
       "    <tr>\n",
       "      <th>...</th>\n",
       "      <td>...</td>\n",
       "      <td>...</td>\n",
       "      <td>...</td>\n",
       "      <td>...</td>\n",
       "      <td>...</td>\n",
       "      <td>...</td>\n",
       "      <td>...</td>\n",
       "      <td>...</td>\n",
       "      <td>...</td>\n",
       "      <td>...</td>\n",
       "      <td>...</td>\n",
       "      <td>...</td>\n",
       "      <td>...</td>\n",
       "      <td>...</td>\n",
       "    </tr>\n",
       "    <tr>\n",
       "      <th>501</th>\n",
       "      <td>0.06263</td>\n",
       "      <td>0.0</td>\n",
       "      <td>11.93</td>\n",
       "      <td>0</td>\n",
       "      <td>0.573</td>\n",
       "      <td>6.593</td>\n",
       "      <td>69.1</td>\n",
       "      <td>2.4786</td>\n",
       "      <td>1</td>\n",
       "      <td>273.0</td>\n",
       "      <td>21.0</td>\n",
       "      <td>391.99</td>\n",
       "      <td>9.67</td>\n",
       "      <td>22.4</td>\n",
       "    </tr>\n",
       "    <tr>\n",
       "      <th>502</th>\n",
       "      <td>0.04527</td>\n",
       "      <td>0.0</td>\n",
       "      <td>11.93</td>\n",
       "      <td>0</td>\n",
       "      <td>0.573</td>\n",
       "      <td>6.120</td>\n",
       "      <td>76.7</td>\n",
       "      <td>2.2875</td>\n",
       "      <td>1</td>\n",
       "      <td>273.0</td>\n",
       "      <td>21.0</td>\n",
       "      <td>396.90</td>\n",
       "      <td>9.08</td>\n",
       "      <td>20.6</td>\n",
       "    </tr>\n",
       "    <tr>\n",
       "      <th>503</th>\n",
       "      <td>0.06076</td>\n",
       "      <td>0.0</td>\n",
       "      <td>11.93</td>\n",
       "      <td>0</td>\n",
       "      <td>0.573</td>\n",
       "      <td>6.976</td>\n",
       "      <td>91.0</td>\n",
       "      <td>2.1675</td>\n",
       "      <td>1</td>\n",
       "      <td>273.0</td>\n",
       "      <td>21.0</td>\n",
       "      <td>396.90</td>\n",
       "      <td>5.64</td>\n",
       "      <td>23.9</td>\n",
       "    </tr>\n",
       "    <tr>\n",
       "      <th>504</th>\n",
       "      <td>0.10959</td>\n",
       "      <td>0.0</td>\n",
       "      <td>11.93</td>\n",
       "      <td>0</td>\n",
       "      <td>0.573</td>\n",
       "      <td>6.794</td>\n",
       "      <td>89.3</td>\n",
       "      <td>2.3889</td>\n",
       "      <td>1</td>\n",
       "      <td>273.0</td>\n",
       "      <td>21.0</td>\n",
       "      <td>393.45</td>\n",
       "      <td>6.48</td>\n",
       "      <td>22.0</td>\n",
       "    </tr>\n",
       "    <tr>\n",
       "      <th>505</th>\n",
       "      <td>0.04741</td>\n",
       "      <td>0.0</td>\n",
       "      <td>11.93</td>\n",
       "      <td>0</td>\n",
       "      <td>0.573</td>\n",
       "      <td>6.030</td>\n",
       "      <td>80.8</td>\n",
       "      <td>2.5050</td>\n",
       "      <td>1</td>\n",
       "      <td>273.0</td>\n",
       "      <td>21.0</td>\n",
       "      <td>396.90</td>\n",
       "      <td>7.88</td>\n",
       "      <td>11.9</td>\n",
       "    </tr>\n",
       "  </tbody>\n",
       "</table>\n",
       "<p>506 rows × 14 columns</p>\n",
       "</div>"
      ],
      "text/plain": [
       "        CRIM    ZN  INDUS  CHAS    NOX     RM   AGE     DIS  RAD    TAX  \\\n",
       "0    0.00632  18.0   2.31     0  0.538  6.575  65.2  4.0900    1  296.0   \n",
       "1    0.02731   0.0   7.07     0  0.469  6.421  78.9  4.9671    2  242.0   \n",
       "2    0.02729   0.0   7.07     0  0.469  7.185  61.1  4.9671    2  242.0   \n",
       "3    0.03237   0.0   2.18     0  0.458  6.998  45.8  6.0622    3  222.0   \n",
       "4    0.06905   0.0   2.18     0  0.458  7.147  54.2  6.0622    3  222.0   \n",
       "..       ...   ...    ...   ...    ...    ...   ...     ...  ...    ...   \n",
       "501  0.06263   0.0  11.93     0  0.573  6.593  69.1  2.4786    1  273.0   \n",
       "502  0.04527   0.0  11.93     0  0.573  6.120  76.7  2.2875    1  273.0   \n",
       "503  0.06076   0.0  11.93     0  0.573  6.976  91.0  2.1675    1  273.0   \n",
       "504  0.10959   0.0  11.93     0  0.573  6.794  89.3  2.3889    1  273.0   \n",
       "505  0.04741   0.0  11.93     0  0.573  6.030  80.8  2.5050    1  273.0   \n",
       "\n",
       "     PTRATIO       B  LSTAT  MEDV  \n",
       "0       15.3  396.90   4.98  24.0  \n",
       "1       17.8  396.90   9.14  21.6  \n",
       "2       17.8  392.83   4.03  34.7  \n",
       "3       18.7  394.63   2.94  33.4  \n",
       "4       18.7  396.90   5.33  36.2  \n",
       "..       ...     ...    ...   ...  \n",
       "501     21.0  391.99   9.67  22.4  \n",
       "502     21.0  396.90   9.08  20.6  \n",
       "503     21.0  396.90   5.64  23.9  \n",
       "504     21.0  393.45   6.48  22.0  \n",
       "505     21.0  396.90   7.88  11.9  \n",
       "\n",
       "[506 rows x 14 columns]"
      ]
     },
     "execution_count": 16,
     "metadata": {},
     "output_type": "execute_result"
    }
   ],
   "source": [
    "column_names = ['CRIM', 'ZN', 'INDUS', 'CHAS', 'NOX', 'RM', 'AGE', 'DIS', 'RAD', 'TAX', 'PTRATIO', 'B', 'LSTAT', 'MEDV']\n",
    "df= pd.read_csv('housing.csv', header=None, delimiter=r\"\\s+\", names=column_names)                                                              #load dataset\n",
    "m=df.shape[0]               # m--> number of rows\n",
    "n=df.shape[1]               # n--> number of columns\n",
    "df"
   ]
  },
  {
   "cell_type": "code",
   "execution_count": 17,
   "metadata": {},
   "outputs": [
    {
     "name": "stdout",
     "output_type": "stream",
     "text": [
      "Size of train_x : (404, 13)\n",
      "Size of train_y : (404,)\n",
      "Size of test_x : (102, 13)\n",
      "Size of test_y : (102,)\n"
     ]
    }
   ],
   "source": [
    "sc = StandardScaler()\n",
    "df.iloc[:,:]=sc.fit_transform(df.iloc[:,:])\n",
    "\n",
    "x_train, x_test, y_train, y_test = [i.to_numpy() for i in train_test_split(df.iloc[:,:n-1],df.iloc[:,-1],test_size=0.2)]\n",
    "# 80-20 ratio split of the data and convertion to numpy array\n",
    "\n",
    "\n",
    "print(\"Size of train_x : {}\".format(x_train.shape))\n",
    "print(\"Size of train_y : {}\".format(y_train.shape))\n",
    "print(\"Size of test_x : {}\".format(x_test.shape))\n",
    "print(\"Size of test_y : {}\".format(y_test.shape))         \n"
   ]
  },
  {
   "cell_type": "markdown",
   "metadata": {},
   "source": [
    "### Define Relu Function"
   ]
  },
  {
   "cell_type": "code",
   "execution_count": 18,
   "metadata": {},
   "outputs": [
    {
     "name": "stdout",
     "output_type": "stream",
     "text": [
      "Relu(5) : [5 0 3 0 4 0 0]\n"
     ]
    }
   ],
   "source": [
    "def relu(z):\n",
    "    return np.maximum(0,z)\n",
    "\n",
    "print(\"Relu(5) : {}\".format(relu([5,-2,3,-1,4,0,-3])))"
   ]
  },
  {
   "cell_type": "markdown",
   "metadata": {},
   "source": [
    "### Plotting Relu"
   ]
  },
  {
   "cell_type": "code",
   "execution_count": 19,
   "metadata": {},
   "outputs": [
    {
     "data": {
      "text/plain": [
       "[<matplotlib.lines.Line2D at 0xbcb1438>]"
      ]
     },
     "execution_count": 19,
     "metadata": {},
     "output_type": "execute_result"
    },
    {
     "data": {
      "image/png": "[encoded data removed]",
      "text/plain": [
       "<Figure size 432x288 with 1 Axes>"
      ]
     },
     "metadata": {
      "needs_background": "light"
     },
     "output_type": "display_data"
    }
   ],
   "source": [
    "plt.plot(np.linspace(-50,100,5000),relu(np.linspace(-50,100,5000)),c = 'orange')"
   ]
  },
  {
   "cell_type": "markdown",
   "metadata": {},
   "source": [
    "### Intializing Parameters of the Network"
   ]
  },
  {
   "cell_type": "code",
   "execution_count": 20,
   "metadata": {},
   "outputs": [
    {
     "data": {
      "text/plain": [
       "{'W1': array([], shape=(0, 13), dtype=float64),\n",
       " 'B1': array([], shape=(0, 1), dtype=float64),\n",
       " 'W2': array([], shape=(20, 0), dtype=float64),\n",
       " 'B2': array([[-0.00399406],\n",
       "        [-0.00685583],\n",
       "        [-0.01429951],\n",
       "        [-0.00513253],\n",
       "        [ 0.01353976],\n",
       "        [ 0.01517326],\n",
       "        [ 0.00139913],\n",
       "        [-0.0017223 ],\n",
       "        [ 0.00401518],\n",
       "        [-0.00753093],\n",
       "        [-0.00113871],\n",
       "        [-0.00045704],\n",
       "        [-0.0055705 ],\n",
       "        [-0.01484191],\n",
       "        [ 0.01031235],\n",
       "        [-0.00121176],\n",
       "        [-0.00538155],\n",
       "        [-0.01099861],\n",
       "        [ 0.00262135],\n",
       "        [ 0.00369671]]),\n",
       " 'W3': array([[-0.01672473,  0.00147623,  0.00702098, -0.01431654, -0.00642691,\n",
       "         -0.00661421, -0.01408731, -0.01415893,  0.00499077,  0.00355893,\n",
       "         -0.00111549, -0.00220712, -0.00984192, -0.00667021,  0.00633958,\n",
       "          0.00802753,  0.0225796 , -0.01413742, -0.00596282,  0.00654514],\n",
       "        [-0.00184926, -0.007882  , -0.00708145,  0.00558351,  0.01288233,\n",
       "         -0.01002702,  0.00801655, -0.01735493, -0.00768926,  0.00539944,\n",
       "         -0.00632424,  0.00711202,  0.0031829 , -0.01838445,  0.00456431,\n",
       "          0.01100857,  0.00304706, -0.0081112 , -0.00438291,  0.01118788],\n",
       "        [-0.00658723, -0.01410984, -0.00546702, -0.00444514, -0.00024   ,\n",
       "          0.00274953, -0.01157143,  0.02414088, -0.00040864,  0.012727  ,\n",
       "         -0.0043088 , -0.00197733, -0.01393405, -0.01990661, -0.00493831,\n",
       "         -0.00021437, -0.01187876, -0.00283848, -0.01428467, -0.00065871],\n",
       "        [-0.00359968,  0.00195692, -0.00896217, -0.00757679, -0.00414457,\n",
       "         -0.00539867, -0.00570709, -0.02927427, -0.0124065 ,  0.01439301,\n",
       "          0.00488728, -0.01355139, -0.01005927, -0.00574763,  0.00106261,\n",
       "          0.00384798, -0.00383204, -0.00627425,  0.00587644,  0.00042273],\n",
       "        [-0.00215799, -0.00461996,  0.00828513, -0.00963945, -0.00780804,\n",
       "          0.01131234,  0.00356989, -0.00049542, -0.01161402,  0.00545299,\n",
       "          0.00754673,  0.00879585,  0.00230944, -0.02026884, -0.00128242,\n",
       "         -0.00421924, -0.01384011,  0.00077583, -0.01228213, -0.00885142],\n",
       "        [-0.00863045,  0.00544862,  0.00424251,  0.00650243,  0.01031464,\n",
       "         -0.00511833,  0.00033102, -0.00524253,  0.00891494, -0.00312812,\n",
       "          0.02888484, -0.01483161,  0.0053961 , -0.00881094, -0.00334835,\n",
       "          0.00350465,  0.01194341,  0.00814104,  0.01569599, -0.01738034],\n",
       "        [-0.00704157, -0.00381591, -0.00990528,  0.01612913, -0.00498906,\n",
       "          0.00704056,  0.00945252, -0.0027133 , -0.00114087, -0.00123717,\n",
       "          0.02572606, -0.00374819, -0.00449981,  0.00132985,  0.0038976 ,\n",
       "         -0.01201999, -0.01054672,  0.01512831, -0.01288636, -0.00767647],\n",
       "        [ 0.01540103, -0.00940781,  0.00584889, -0.00301208,  0.01312589,\n",
       "         -0.01339346, -0.00705248,  0.00575451,  0.02330778,  0.01268492,\n",
       "         -0.00350817,  0.00524073,  0.00161702,  0.0072809 ,  0.00251224,\n",
       "          0.00270094, -0.00178455, -0.00478097, -0.00937323, -0.00353221],\n",
       "        [-0.00496971, -0.00048297,  0.00983186,  0.00700104, -0.008821  ,\n",
       "          0.00346792,  0.00329199,  0.00303097,  0.00252866, -0.02165835,\n",
       "         -0.00131158,  0.01190822, -0.00251225,  0.00567524,  0.01997868,\n",
       "         -0.00766335,  0.00987621,  0.00043641, -0.01748229,  0.02364349],\n",
       "        [ 0.00818245, -0.00176312, -0.00403287,  0.00426775,  0.01061338,\n",
       "         -0.01657843,  0.01381613,  0.00676165, -0.0122269 , -0.00165947,\n",
       "         -0.01575287,  0.01257347,  0.0109532 ,  0.00500687, -0.00735935,\n",
       "         -0.00041938,  0.00649603,  0.00114909, -0.00954928, -0.00470251]]),\n",
       " 'B3': array([[-0.00958325],\n",
       "        [ 0.00544307],\n",
       "        [ 0.01479923],\n",
       "        [ 0.00047883],\n",
       "        [-0.003941  ],\n",
       "        [-0.00115515],\n",
       "        [-0.00910468],\n",
       "        [ 0.00472175],\n",
       "        [ 0.01416723],\n",
       "        [ 0.00141682]]),\n",
       " 'W4': array([[ 0.0093827 ,  0.01059086,  0.01423537,  0.01213682,  0.01925182,\n",
       "          0.00377399,  0.00473474,  0.00684985, -0.01104637,  0.01094728]]),\n",
       " 'B4': array([[0.00111106]])}"
      ]
     },
     "execution_count": 20,
     "metadata": {},
     "output_type": "execute_result"
    }
   ],
   "source": [
    "def initialize_params(layer_sizes):\n",
    "    params = {} #defining paramets as dictionary which contains weights and biases as W and B in the prefix\n",
    "    for i in range(1, len(layer_sizes)):\n",
    "        params['W' + str(i)] = np.random.randn(layer_sizes[i], layer_sizes[i-1])*0.01\n",
    "        params['B' + str(i)] = np.random.randn(layer_sizes[i],1)*0.01\n",
    "    return params\n",
    "\n",
    "params_temp = initialize_params([13,0,20,10,1])\n",
    "params_temp"
   ]
  },
  {
   "cell_type": "markdown",
   "metadata": {},
   "source": [
    "###  Forward Propagation"
   ]
  },
  {
   "cell_type": "code",
   "execution_count": 21,
   "metadata": {},
   "outputs": [],
   "source": [
    "def forward_propagation(X_train, params):\n",
    "    layers = len(layer_sizes)-1 # Defining the number of layers\n",
    "    values = {} #defining as dictionary to store the values of Z and Activations required for the backpropagations\n",
    "    \n",
    "    for i in range(1, layers+1):\n",
    "        if i==1: #for first layer, the imput is multiplied with weights and aDDED with bias\n",
    "            values['Z' + str(i)] = np.dot(params['W' + str(i)], X_train) + params['B' + str(i)]\n",
    "            values['A' + str(i)] = relu(values['Z' + str(i)]) #computing activations\n",
    "        else:\n",
    "            values['Z' + str(i)] = np.dot(params['W' + str(i)], values['A' + str(i-1)]) + params['B' + str(i)]\n",
    "            if i==layers: #for last layer, activations are computed without applying relu\n",
    "                values['A' + str(i)] = values['Z' + str(i)]\n",
    "            else:\n",
    "                values['A' + str(i)] = relu(values['Z' + str(i)])\n",
    "    return values\n",
    "\n",
    "# val = forward_propagation(x_train.T,params_temp)"
   ]
  },
  {
   "cell_type": "markdown",
   "metadata": {},
   "source": [
    "### Compute Cost"
   ]
  },
  {
   "cell_type": "code",
   "execution_count": 22,
   "metadata": {},
   "outputs": [],
   "source": [
    "def compute_cost(values, Y_train): #mean squared error computation\n",
    "    layers = len(layer_sizes)-1\n",
    "    Y_pred = values['A' + str(layers)]\n",
    "    cost = 1/(2*len(Y_train)) * (np.sum(np.square(Y_pred - Y_train)))\n",
    "    return cost"
   ]
  },
  {
   "cell_type": "markdown",
   "metadata": {},
   "source": [
    "###  Back Prop"
   ]
  },
  {
   "cell_type": "code",
   "execution_count": 23,
   "metadata": {},
   "outputs": [],
   "source": [
    "def backward_propagation(params, values, X_train, Y_train):\n",
    "    layers = len(layer_sizes)-1\n",
    "    m = len(Y_train)\n",
    "    grads = {}\n",
    "    for i in range(layers,0,-1):\n",
    "        if i==layers: #for last layer dz = da as no relu non-linearity has been applied\n",
    "            dA = 1/m * (values['A' + str(i)] - Y_train)\n",
    "            dZ = dA\n",
    "        else:\n",
    "            dA = np.dot(params['W' + str(i+1)].T, dZ) #for internal layers multiply the dz of next layer with the weights\n",
    "            dZ = np.multiply(dA, np.where(values['A' + str(i)]>=0, 1, 0)) # calculate dz using relu concept of backprop on da\n",
    "        if i==1:\n",
    "            grads['W' + str(i)] = 1/m * np.dot(dZ, X_train.T)\n",
    "            grads['B' + str(i)] = 1/m * np.sum(dZ, axis=1, keepdims=True)\n",
    "        else:\n",
    "            grads['W' + str(i)] = 1/m * np.dot(dZ,values['A' + str(i-1)].T)\n",
    "            grads['B' + str(i)] = 1/m * np.sum(dZ, axis=1, keepdims=True)\n",
    "    return grads"
   ]
  },
  {
   "cell_type": "markdown",
   "metadata": {},
   "source": [
    "###  Update Parameters with Gradients"
   ]
  },
  {
   "cell_type": "code",
   "execution_count": 24,
   "metadata": {},
   "outputs": [],
   "source": [
    "def update_params(params, grads, learning_rate):\n",
    "    layers = len(layer_sizes)-1\n",
    "    params_updated = {}\n",
    "    for i in range(1,layers+1):\n",
    "        params_updated['W' + str(i)] = params['W' + str(i)] - learning_rate * grads['W' + str(i)]\n",
    "        params_updated['B' + str(i)] = params['B' + str(i)] - learning_rate * grads['B' + str(i)]\n",
    "    return params_updated"
   ]
  },
  {
   "cell_type": "markdown",
   "metadata": {},
   "source": [
    "### Compute Test Loss"
   ]
  },
  {
   "cell_type": "code",
   "execution_count": 25,
   "metadata": {},
   "outputs": [],
   "source": [
    "def compute_test_loss(x_test,y_test, params):\n",
    "    values_train = forward_propagation(x_test.T, params)\n",
    "    test_loss = np.sqrt(mean_squared_error(y_test, values_train['A' + str(len(layer_sizes)-1)].T))\n",
    "    return test_loss"
   ]
  },
  {
   "cell_type": "markdown",
   "metadata": {},
   "source": [
    "### Predicition"
   ]
  },
  {
   "cell_type": "code",
   "execution_count": 26,
   "metadata": {},
   "outputs": [],
   "source": [
    "def predict(X, params):\n",
    "    values = forward_propagation(X.T, params)\n",
    "    predictions = values['A' + str(len(values)//2)].T\n",
    "    return predictions"
   ]
  },
  {
   "cell_type": "markdown",
   "metadata": {},
   "source": [
    "###  Conjuring up a Neural Net Model"
   ]
  },
  {
   "cell_type": "code",
   "execution_count": 27,
   "metadata": {
    "colab": {
     "base_uri": "https://localhost:8080/"
    },
    "id": "wSqY-bZG9Z8A",
    "outputId": "efdbbaaa-2549-4662-c7dc-e37b071dac29"
   },
   "outputs": [],
   "source": [
    "def model(X_train, Y_train, layer_sizes, num_iters, learning_rate):\n",
    "    train_loss = []\n",
    "    test_loss = []\n",
    "    params = initialize_params(layer_sizes)\n",
    "    \n",
    "    for i in range(num_iters):\n",
    "        values = forward_propagation(X_train.T, params)\n",
    "        \n",
    "        cost = compute_cost(values, Y_train.T)\n",
    "        test_cost = compute_test_loss(x_test,y_test,params)\n",
    "        \n",
    "        train_loss.append(cost)\n",
    "        test_loss.append(test_cost)\n",
    "        \n",
    "        grads = backward_propagation(params, values,X_train.T, Y_train.T)\n",
    "        params = update_params(params, grads, learning_rate)\n",
    "        \n",
    "        if(i%100 == 0):\n",
    "            print(\"Current Learning Rate is : {}\".format(learning_rate))\n",
    "            print('Cost at iteration ' + str(i+1) + ' = ' + str(cost) + '\\n')\n",
    "            if(i!=0):\n",
    "                learning_rate = learning_rate*0.95 #learning rate scheduler\n",
    "    \n",
    "    fig, ax = plt.subplots(1,2, figsize = (15,8))\n",
    "    \n",
    "    ax[0].plot(range(num_iters),train_loss)\n",
    "    ax[0].set_title(\"training loss trend\")\n",
    "    ax[1].plot(range(num_iters),test_loss, color = 'red')\n",
    "    ax[1].set_title(\"test loss trend\")\n",
    "    \n",
    "    return params"
   ]
  },
  {
   "cell_type": "code",
   "execution_count": 28,
   "metadata": {},
   "outputs": [
    {
     "name": "stdout",
     "output_type": "stream",
     "text": [
      "Current Learning Rate is : 0.1\n",
      "Cost at iteration 1 = 0.5055317939715686\n",
      "\n",
      "Current Learning Rate is : 0.1\n",
      "Cost at iteration 101 = 0.5055290587318775\n",
      "\n",
      "Current Learning Rate is : 0.095\n",
      "Cost at iteration 201 = 0.5055265815096981\n",
      "\n",
      "Current Learning Rate is : 0.09025\n",
      "Cost at iteration 301 = 0.5055243337493059\n",
      "\n",
      "Current Learning Rate is : 0.0857375\n",
      "Cost at iteration 401 = 0.5055222895073936\n",
      "\n",
      "Current Learning Rate is : 0.08145062499999998\n",
      "Cost at iteration 501 = 0.5055204262970254\n",
      "\n",
      "Current Learning Rate is : 0.07737809374999999\n",
      "Cost at iteration 601 = 0.5055187245639731\n",
      "\n",
      "Current Learning Rate is : 0.07350918906249998\n",
      "Cost at iteration 701 = 0.5055171672510268\n",
      "\n",
      "Current Learning Rate is : 0.06983372960937498\n",
      "Cost at iteration 801 = 0.5055157394341704\n",
      "\n",
      "Current Learning Rate is : 0.06634204312890622\n",
      "Cost at iteration 901 = 0.50551442801768\n",
      "\n",
      "Current Learning Rate is : 0.0630249409724609\n",
      "Cost at iteration 1001 = 0.5055132214777279\n",
      "\n",
      "Current Learning Rate is : 0.05987369392383786\n",
      "Cost at iteration 1101 = 0.5055121096460504\n",
      "\n",
      "Current Learning Rate is : 0.05688000922764597\n",
      "Cost at iteration 1201 = 0.5055110835268317\n",
      "\n",
      "Current Learning Rate is : 0.05403600876626367\n",
      "Cost at iteration 1301 = 0.5055101351412177\n",
      "\n",
      "Current Learning Rate is : 0.05133420832795048\n",
      "Cost at iteration 1401 = 0.5055092573948892\n",
      "\n",
      "Current Learning Rate is : 0.04876749791155295\n",
      "Cost at iteration 1501 = 0.5055084439649421\n",
      "\n",
      "Current Learning Rate is : 0.046329123015975304\n",
      "Cost at iteration 1601 = 0.5055076892029854\n",
      "\n",
      "Current Learning Rate is : 0.04401266686517654\n",
      "Cost at iteration 1701 = 0.5055069880518992\n",
      "\n",
      "Current Learning Rate is : 0.04181203352191771\n",
      "Cost at iteration 1801 = 0.5055063359741361\n",
      "\n",
      "Current Learning Rate is : 0.039721431845821824\n",
      "Cost at iteration 1901 = 0.5055057288897998\n",
      "\n",
      "Current Learning Rate is : 0.037735360253530734\n",
      "Cost at iteration 2001 = 0.505505163123056\n",
      "\n",
      "Current Learning Rate is : 0.035848592240854196\n",
      "Cost at iteration 2101 = 0.5055046353555888\n",
      "\n",
      "Current Learning Rate is : 0.03405616262881148\n",
      "Cost at iteration 2201 = 0.5055041425861295\n",
      "\n",
      "Current Learning Rate is : 0.03235335449737091\n",
      "Cost at iteration 2301 = 0.5055036820951645\n",
      "\n",
      "Current Learning Rate is : 0.030735686772502362\n",
      "Cost at iteration 2401 = 0.5055032514140828\n",
      "\n",
      "Current Learning Rate is : 0.029198902433877242\n",
      "Cost at iteration 2501 = 0.5055028482981564\n",
      "\n",
      "Current Learning Rate is : 0.027738957312183378\n",
      "Cost at iteration 2601 = 0.5055024707028204\n",
      "\n",
      "Current Learning Rate is : 0.026352009446574207\n",
      "Cost at iteration 2701 = 0.5055021167628091\n",
      "\n",
      "Current Learning Rate is : 0.025034408974245494\n",
      "Cost at iteration 2801 = 0.5055017847737644\n",
      "\n",
      "Current Learning Rate is : 0.023782688525533217\n",
      "Cost at iteration 2901 = 0.5055014731759927\n",
      "\n",
      "Current Learning Rate is : 0.022593554099256556\n",
      "Cost at iteration 3001 = 0.5055011805400919\n",
      "\n",
      "Current Learning Rate is : 0.021463876394293726\n",
      "Cost at iteration 3101 = 0.5055009055542069\n",
      "\n",
      "Current Learning Rate is : 0.020390682574579037\n",
      "Cost at iteration 3201 = 0.5055006470127118\n",
      "\n",
      "Current Learning Rate is : 0.019371148445850084\n",
      "Cost at iteration 3301 = 0.5055004038061364\n",
      "\n",
      "Current Learning Rate is : 0.01840259102355758\n",
      "Cost at iteration 3401 = 0.5055001749121883\n",
      "\n",
      "Current Learning Rate is : 0.0174824614723797\n",
      "Cost at iteration 3501 = 0.5054999593877362\n",
      "\n",
      "Current Learning Rate is : 0.016608338398760712\n",
      "Cost at iteration 3601 = 0.5054997563616376\n",
      "\n",
      "Current Learning Rate is : 0.015777921478822676\n",
      "Cost at iteration 3701 = 0.5054995650283152\n",
      "\n",
      "Current Learning Rate is : 0.014989025404881541\n",
      "Cost at iteration 3801 = 0.5054993846419913\n",
      "\n",
      "Current Learning Rate is : 0.014239574134637464\n",
      "Cost at iteration 3901 = 0.5054992145115055\n",
      "\n",
      "Current Learning Rate is : 0.01352759542790559\n",
      "Cost at iteration 4001 = 0.5054990539956502\n",
      "\n",
      "Current Learning Rate is : 0.012851215656510309\n",
      "Cost at iteration 4101 = 0.5054989024989655\n",
      "\n",
      "Current Learning Rate is : 0.012208654873684792\n",
      "Cost at iteration 4201 = 0.5054987594679414\n",
      "\n",
      "Current Learning Rate is : 0.011598222130000552\n",
      "Cost at iteration 4301 = 0.5054986243875855\n",
      "\n",
      "Current Learning Rate is : 0.011018311023500524\n",
      "Cost at iteration 4401 = 0.5054984967783133\n",
      "\n",
      "Current Learning Rate is : 0.010467395472325497\n",
      "Cost at iteration 4501 = 0.5054983761931291\n",
      "\n",
      "Current Learning Rate is : 0.009944025698709221\n",
      "Cost at iteration 4601 = 0.5054982622150672\n",
      "\n",
      "Current Learning Rate is : 0.00944682441377376\n",
      "Cost at iteration 4701 = 0.5054981544548636\n",
      "\n",
      "Current Learning Rate is : 0.00897448319308507\n",
      "Cost at iteration 4801 = 0.5054980525488377\n",
      "\n",
      "Current Learning Rate is : 0.008525759033430816\n",
      "Cost at iteration 4901 = 0.5054979561569608\n",
      "\n",
      "Root Mean Squared Error on Testing Data = 0.9785934000430188\n"
     ]
    },
    {
     "data": {
      "image/png": "[encoded data removed]",
      "text/plain": [
       "<Figure size 1080x576 with 2 Axes>"
      ]
     },
     "metadata": {
      "needs_background": "light"
     },
     "output_type": "display_data"
    }
   ],
   "source": [
    "layer_sizes = [13, 32, 64, 32, 8, 1]            #set layer sizes ; size of the first and last layer must\\\n",
    "                                                #be according to the features and expected output dimensions\n",
    "num_iters = 5000                                 #set number of training iterations over\n",
    "learning_rate = 0.1                              #set learning rate for gradient descent\n",
    "params = model(x_train, y_train, layer_sizes, num_iters, learning_rate)           #train the model on the traingin data\n",
    "test_rmse= compute_test_loss(x_test, y_test, params)  #get training and test accuracy\n",
    "\n",
    "print('Root Mean Squared Error on Testing Data = ' + str(test_rmse))"
   ]
  },
  {
   "cell_type": "markdown",
   "metadata": {},
   "source": [
    "### Thank You"
   ]
  }
 ],
 "metadata": {
  "colab": {
   "collapsed_sections": [],
   "name": "DataScienceLabAssignment8.ipynb",
   "provenance": []
  },
  "kernelspec": {
   "display_name": "Python 3",
   "language": "python",
   "name": "python3"
  },
  "language_info": {
   "codemirror_mode": {
    "name": "ipython",
    "version": 3
   },
   "file_extension": ".py",
   "mimetype": "text/x-python",
   "name": "python",
   "nbconvert_exporter": "python",
   "pygments_lexer": "ipython3",
   "version": "3.7.0"
  }
 },
 "nbformat": 4,
 "nbformat_minor": 1
}
