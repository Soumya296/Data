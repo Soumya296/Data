{
 "cells": [
  {
   "cell_type": "markdown",
   "id": "0c4db776",
   "metadata": {},
   "source": [
    "Implement neural network from scratch using python for the following datasets and predict the values for the following datasets:\n",
    "\n",
    "The seeds dataset: https://archive.ics.uci.edu/ml/datasets/seeds"
   ]
  },
  {
   "cell_type": "markdown",
   "id": "dab81c40",
   "metadata": {},
   "source": [
    "### Importing Libraries"
   ]
  },
  {
   "cell_type": "code",
   "execution_count": 6,
   "id": "40469ab0",
   "metadata": {},
   "outputs": [],
   "source": [
    "import pandas as pd\n",
    "import numpy as np\n",
    "import io\n",
    "import matplotlib.pyplot as plt\n",
    "from sklearn.metrics import mean_squared_error\n",
    "from sklearn.preprocessing import StandardScaler\n",
    "from sklearn.model_selection import train_test_split\n",
    "%matplotlib inline"
   ]
  },
  {
   "cell_type": "markdown",
   "id": "9c0d7b63",
   "metadata": {},
   "source": [
    "### Reading Dataset"
   ]
  },
  {
   "cell_type": "code",
   "execution_count": 9,
   "id": "1bd45688",
   "metadata": {},
   "outputs": [
    {
     "data": {
      "text/html": [
       "<div>\n",
       "<style scoped>\n",
       "    .dataframe tbody tr th:only-of-type {\n",
       "        vertical-align: middle;\n",
       "    }\n",
       "\n",
       "    .dataframe tbody tr th {\n",
       "        vertical-align: top;\n",
       "    }\n",
       "\n",
       "    .dataframe thead th {\n",
       "        text-align: right;\n",
       "    }\n",
       "</style>\n",
       "<table border=\"1\" class=\"dataframe\">\n",
       "  <thead>\n",
       "    <tr style=\"text-align: right;\">\n",
       "      <th></th>\n",
       "      <th>AREA</th>\n",
       "      <th>PERIMETER</th>\n",
       "      <th>COMPACTNESS</th>\n",
       "      <th>LENGTH</th>\n",
       "      <th>WIDTH</th>\n",
       "      <th>ASSYMMETRY_COEFFICIENT</th>\n",
       "      <th>GROOVE_LENGTH</th>\n",
       "      <th>TYPE</th>\n",
       "    </tr>\n",
       "  </thead>\n",
       "  <tbody>\n",
       "    <tr>\n",
       "      <th>0</th>\n",
       "      <td>15.26</td>\n",
       "      <td>14.84</td>\n",
       "      <td>0.8710</td>\n",
       "      <td>5.763</td>\n",
       "      <td>3.312</td>\n",
       "      <td>2.221</td>\n",
       "      <td>5.220</td>\n",
       "      <td>1</td>\n",
       "    </tr>\n",
       "    <tr>\n",
       "      <th>1</th>\n",
       "      <td>14.88</td>\n",
       "      <td>14.57</td>\n",
       "      <td>0.8811</td>\n",
       "      <td>5.554</td>\n",
       "      <td>3.333</td>\n",
       "      <td>1.018</td>\n",
       "      <td>4.956</td>\n",
       "      <td>1</td>\n",
       "    </tr>\n",
       "    <tr>\n",
       "      <th>2</th>\n",
       "      <td>14.29</td>\n",
       "      <td>14.09</td>\n",
       "      <td>0.9050</td>\n",
       "      <td>5.291</td>\n",
       "      <td>3.337</td>\n",
       "      <td>2.699</td>\n",
       "      <td>4.825</td>\n",
       "      <td>1</td>\n",
       "    </tr>\n",
       "    <tr>\n",
       "      <th>3</th>\n",
       "      <td>13.84</td>\n",
       "      <td>13.94</td>\n",
       "      <td>0.8955</td>\n",
       "      <td>5.324</td>\n",
       "      <td>3.379</td>\n",
       "      <td>2.259</td>\n",
       "      <td>4.805</td>\n",
       "      <td>1</td>\n",
       "    </tr>\n",
       "    <tr>\n",
       "      <th>4</th>\n",
       "      <td>16.14</td>\n",
       "      <td>14.99</td>\n",
       "      <td>0.9034</td>\n",
       "      <td>5.658</td>\n",
       "      <td>3.562</td>\n",
       "      <td>1.355</td>\n",
       "      <td>5.175</td>\n",
       "      <td>1</td>\n",
       "    </tr>\n",
       "    <tr>\n",
       "      <th>...</th>\n",
       "      <td>...</td>\n",
       "      <td>...</td>\n",
       "      <td>...</td>\n",
       "      <td>...</td>\n",
       "      <td>...</td>\n",
       "      <td>...</td>\n",
       "      <td>...</td>\n",
       "      <td>...</td>\n",
       "    </tr>\n",
       "    <tr>\n",
       "      <th>135</th>\n",
       "      <td>15.38</td>\n",
       "      <td>14.66</td>\n",
       "      <td>0.8990</td>\n",
       "      <td>5.477</td>\n",
       "      <td>3.465</td>\n",
       "      <td>3.600</td>\n",
       "      <td>5.439</td>\n",
       "      <td>2</td>\n",
       "    </tr>\n",
       "    <tr>\n",
       "      <th>136</th>\n",
       "      <td>17.36</td>\n",
       "      <td>15.76</td>\n",
       "      <td>0.8785</td>\n",
       "      <td>6.145</td>\n",
       "      <td>3.574</td>\n",
       "      <td>3.526</td>\n",
       "      <td>5.971</td>\n",
       "      <td>2</td>\n",
       "    </tr>\n",
       "    <tr>\n",
       "      <th>137</th>\n",
       "      <td>15.57</td>\n",
       "      <td>15.15</td>\n",
       "      <td>0.8527</td>\n",
       "      <td>5.920</td>\n",
       "      <td>3.231</td>\n",
       "      <td>2.640</td>\n",
       "      <td>5.879</td>\n",
       "      <td>2</td>\n",
       "    </tr>\n",
       "    <tr>\n",
       "      <th>138</th>\n",
       "      <td>15.60</td>\n",
       "      <td>15.11</td>\n",
       "      <td>0.8580</td>\n",
       "      <td>5.832</td>\n",
       "      <td>3.286</td>\n",
       "      <td>2.725</td>\n",
       "      <td>5.752</td>\n",
       "      <td>2</td>\n",
       "    </tr>\n",
       "    <tr>\n",
       "      <th>139</th>\n",
       "      <td>16.23</td>\n",
       "      <td>15.18</td>\n",
       "      <td>0.8850</td>\n",
       "      <td>5.872</td>\n",
       "      <td>3.472</td>\n",
       "      <td>3.769</td>\n",
       "      <td>5.922</td>\n",
       "      <td>2</td>\n",
       "    </tr>\n",
       "  </tbody>\n",
       "</table>\n",
       "<p>140 rows × 8 columns</p>\n",
       "</div>"
      ],
      "text/plain": [
       "      AREA  PERIMETER  COMPACTNESS  LENGTH  WIDTH  ASSYMMETRY_COEFFICIENT  \\\n",
       "0    15.26      14.84       0.8710   5.763  3.312                   2.221   \n",
       "1    14.88      14.57       0.8811   5.554  3.333                   1.018   \n",
       "2    14.29      14.09       0.9050   5.291  3.337                   2.699   \n",
       "3    13.84      13.94       0.8955   5.324  3.379                   2.259   \n",
       "4    16.14      14.99       0.9034   5.658  3.562                   1.355   \n",
       "..     ...        ...          ...     ...    ...                     ...   \n",
       "135  15.38      14.66       0.8990   5.477  3.465                   3.600   \n",
       "136  17.36      15.76       0.8785   6.145  3.574                   3.526   \n",
       "137  15.57      15.15       0.8527   5.920  3.231                   2.640   \n",
       "138  15.60      15.11       0.8580   5.832  3.286                   2.725   \n",
       "139  16.23      15.18       0.8850   5.872  3.472                   3.769   \n",
       "\n",
       "     GROOVE_LENGTH  TYPE  \n",
       "0            5.220     1  \n",
       "1            4.956     1  \n",
       "2            4.825     1  \n",
       "3            4.805     1  \n",
       "4            5.175     1  \n",
       "..             ...   ...  \n",
       "135          5.439     2  \n",
       "136          5.971     2  \n",
       "137          5.879     2  \n",
       "138          5.752     2  \n",
       "139          5.922     2  \n",
       "\n",
       "[140 rows x 8 columns]"
      ]
     },
     "execution_count": 9,
     "metadata": {},
     "output_type": "execute_result"
    }
   ],
   "source": [
    "df = pd.read_csv(\"seeds.csv\")\n",
    "m=df.shape[0]               # m--> number of rows\n",
    "n=df.shape[1]               # n--> number of columns\n",
    "df"
   ]
  },
  {
   "cell_type": "markdown",
   "id": "26c07210",
   "metadata": {},
   "source": [
    "### Scaling the Dataset"
   ]
  },
  {
   "cell_type": "code",
   "execution_count": 11,
   "id": "15ae68d7",
   "metadata": {},
   "outputs": [
    {
     "name": "stdout",
     "output_type": "stream",
     "text": [
      "Size of train_x : (112, 7)\n",
      "Size of train_y : (112,)\n",
      "Size of test_x : (28, 7)\n",
      "Size of test_y : (28,)\n"
     ]
    }
   ],
   "source": [
    "sc = StandardScaler()\n",
    "df.iloc[:,:]=sc.fit_transform(df.iloc[:,:])\n",
    "\n",
    "x_train, x_test, y_train, y_test = [i.to_numpy() for i in train_test_split(df.iloc[:,:n-1],df.iloc[:,-1],test_size=0.2)]\n",
    "# 80-20 ratio split of the data and convertion to numpy array\n",
    "\n",
    "\n",
    "print(\"Size of train_x : {}\".format(x_train.shape))\n",
    "print(\"Size of train_y : {}\".format(y_train.shape))\n",
    "print(\"Size of test_x : {}\".format(x_test.shape))\n",
    "print(\"Size of test_y : {}\".format(y_test.shape)) "
   ]
  },
  {
   "cell_type": "markdown",
   "id": "041953e4",
   "metadata": {},
   "source": [
    "### Define the Relu Function"
   ]
  },
  {
   "cell_type": "code",
   "execution_count": 12,
   "id": "d0c4e698",
   "metadata": {},
   "outputs": [
    {
     "name": "stdout",
     "output_type": "stream",
     "text": [
      "Relu(5) : [5 0 3 0 4 0 0]\n"
     ]
    }
   ],
   "source": [
    "def relu(z):\n",
    "    return np.maximum(0,z)\n",
    "\n",
    "print(\"Relu(5) : {}\".format(relu([5,-2,3,-1,4,0,-3])))"
   ]
  },
  {
   "cell_type": "markdown",
   "id": "9291adc6",
   "metadata": {},
   "source": [
    "### Plotting Relu"
   ]
  },
  {
   "cell_type": "code",
   "execution_count": 13,
   "id": "68045d75",
   "metadata": {},
   "outputs": [
    {
     "data": {
      "text/plain": [
       "[<matplotlib.lines.Line2D at 0x1e9062ada00>]"
      ]
     },
     "execution_count": 13,
     "metadata": {},
     "output_type": "execute_result"
    },
    {
     "data": {
      "image/png": "[encoded data removed]",
      "text/plain": [
       "<Figure size 432x288 with 1 Axes>"
      ]
     },
     "metadata": {
      "needs_background": "light"
     },
     "output_type": "display_data"
    }
   ],
   "source": [
    "plt.plot(np.linspace(-50,100,5000),relu(np.linspace(-50,100,5000)),c = 'orange')"
   ]
  },
  {
   "cell_type": "markdown",
   "id": "b0d29fea",
   "metadata": {},
   "source": [
    "### Intializing Parameters of the Network"
   ]
  },
  {
   "cell_type": "code",
   "execution_count": 14,
   "id": "527a8d7d",
   "metadata": {},
   "outputs": [
    {
     "data": {
      "text/plain": [
       "{'W1': array([], shape=(0, 13), dtype=float64),\n",
       " 'B1': array([], shape=(0, 1), dtype=float64),\n",
       " 'W2': array([], shape=(20, 0), dtype=float64),\n",
       " 'B2': array([[-0.00012035],\n",
       "        [-0.0227865 ],\n",
       "        [-0.00306541],\n",
       "        [ 0.01157597],\n",
       "        [ 0.00236929],\n",
       "        [-0.00151335],\n",
       "        [ 0.01200181],\n",
       "        [ 0.0081175 ],\n",
       "        [ 0.00765881],\n",
       "        [ 0.0115563 ],\n",
       "        [-0.00216324],\n",
       "        [-0.00683033],\n",
       "        [-0.00396234],\n",
       "        [-0.0030371 ],\n",
       "        [-0.00350461],\n",
       "        [-0.00830323],\n",
       "        [ 0.00760731],\n",
       "        [ 0.00077705],\n",
       "        [ 0.00289263],\n",
       "        [-0.00261077]]),\n",
       " 'W3': array([[-7.64125607e-03, -6.05387041e-03,  9.06671727e-03,\n",
       "         -3.12343392e-02, -1.47903325e-02, -3.96997335e-03,\n",
       "          8.79135415e-04, -9.48831309e-04,  8.61220108e-03,\n",
       "          1.81479535e-03,  8.69753415e-03, -1.96945784e-03,\n",
       "         -8.05062786e-03,  2.68217289e-02,  1.73738111e-02,\n",
       "         -7.82148818e-03,  5.82152226e-03,  7.62682311e-03,\n",
       "         -2.83603330e-02, -1.90499529e-02],\n",
       "        [-3.05366925e-03,  5.47049534e-03,  1.73521006e-02,\n",
       "          9.68674758e-03,  7.97054411e-03,  4.88398962e-04,\n",
       "          4.52785604e-03,  1.52496168e-05, -1.73852451e-02,\n",
       "         -6.48055309e-04,  2.26569870e-03,  5.52238073e-03,\n",
       "          4.77175568e-03,  1.33915351e-02, -1.23191410e-02,\n",
       "         -1.78481615e-04,  8.62869790e-03,  1.43062982e-02,\n",
       "         -1.32375208e-02,  4.24444685e-03],\n",
       "        [ 1.29166223e-02, -7.40908404e-03,  1.85047607e-02,\n",
       "         -2.32369752e-03,  5.99303936e-03, -7.47537814e-03,\n",
       "          2.40955237e-02,  1.38874410e-03, -1.55263282e-02,\n",
       "          3.93148824e-04,  4.01082185e-04,  1.09942589e-02,\n",
       "         -1.79960796e-03,  1.72825861e-02,  4.09299661e-03,\n",
       "         -1.62414993e-03, -9.52947006e-03, -2.14824561e-02,\n",
       "         -1.88564915e-02, -2.57769829e-02],\n",
       "        [-1.17338007e-02,  5.40869252e-03, -1.17574057e-03,\n",
       "          1.69851737e-02,  7.51761932e-03, -6.93811846e-04,\n",
       "          2.08680756e-03,  9.18870673e-03, -4.60066331e-03,\n",
       "          1.43619935e-02, -4.27760133e-03, -1.32762872e-02,\n",
       "         -2.19946556e-02, -3.46117056e-03, -1.10841456e-03,\n",
       "         -8.69133822e-03, -1.07085826e-02,  6.94949761e-03,\n",
       "          5.15543377e-03,  1.77924068e-03],\n",
       "        [ 6.16514327e-03,  5.36038337e-03, -7.28451056e-03,\n",
       "          4.34674028e-03, -3.17830360e-03, -1.08927430e-03,\n",
       "         -5.76486720e-03, -6.25650881e-03,  4.65758627e-03,\n",
       "         -8.67073703e-03,  7.02404022e-03,  1.91409321e-02,\n",
       "          1.49558327e-02,  2.34561118e-02,  1.14656701e-02,\n",
       "         -1.08650091e-02, -8.77850537e-03, -1.30185432e-02,\n",
       "         -5.68260527e-04, -2.30651440e-03],\n",
       "        [ 2.89133574e-03, -1.16970060e-02, -8.96757799e-03,\n",
       "         -6.05381515e-03, -4.26485427e-03,  1.06576157e-02,\n",
       "          1.30463397e-02, -1.90210817e-02, -5.85164236e-03,\n",
       "         -1.47302540e-03,  1.03342940e-02,  8.04511736e-03,\n",
       "         -1.16194237e-02,  7.81733046e-03,  1.21249226e-02,\n",
       "         -4.60742817e-03,  1.40377914e-03, -2.09964605e-03,\n",
       "          1.95765989e-02, -5.88696819e-03],\n",
       "        [-4.78532419e-05, -7.02145782e-04,  4.85083466e-03,\n",
       "         -7.23743072e-03, -3.53280954e-03,  3.47645596e-03,\n",
       "         -7.50954216e-03, -3.75285495e-03, -3.99379562e-03,\n",
       "         -5.01695054e-03,  1.23347314e-02,  1.16935431e-02,\n",
       "         -1.21500881e-02, -3.13956601e-03, -6.66116116e-03,\n",
       "         -3.81194515e-03, -1.85443901e-02,  3.82609364e-04,\n",
       "         -3.62603787e-03,  3.32319295e-03],\n",
       "        [ 1.70081420e-02,  1.36090382e-02, -2.70126049e-02,\n",
       "          5.93360252e-04, -1.25413968e-02, -6.98729439e-03,\n",
       "          3.28215689e-03,  3.70913635e-03, -3.52681942e-03,\n",
       "         -7.01626050e-03, -7.08814811e-04, -2.42337677e-02,\n",
       "          4.07770213e-03, -6.37816324e-03,  1.33704409e-02,\n",
       "         -1.02840858e-04,  4.28549136e-03,  2.33196838e-03,\n",
       "          1.18546774e-02,  7.57305293e-03],\n",
       "        [-1.55849542e-02,  8.63270526e-03, -5.80215199e-03,\n",
       "          1.28376661e-02,  4.85716372e-03, -4.23551694e-03,\n",
       "         -1.95890910e-02, -1.38461744e-02, -6.13990039e-03,\n",
       "          1.36005123e-02, -5.69141905e-03, -8.13948017e-04,\n",
       "          1.27558554e-02,  4.71698277e-03, -1.80822303e-02,\n",
       "          1.13314663e-02,  1.65133176e-02, -1.39351220e-02,\n",
       "         -1.26099484e-03,  1.43580621e-02],\n",
       "        [-1.86857859e-02, -1.47571967e-02, -3.06211643e-03,\n",
       "         -3.71389543e-03,  7.30825309e-03,  8.66831201e-03,\n",
       "          1.50118988e-02,  1.09633845e-02,  1.13809942e-03,\n",
       "          2.02384298e-02,  1.90914539e-03,  1.20532968e-03,\n",
       "         -4.88316953e-03,  1.36351693e-02, -6.17506365e-03,\n",
       "          3.81527971e-03, -4.64452305e-03,  1.91054069e-03,\n",
       "          3.95733102e-03, -1.06097655e-03]]),\n",
       " 'B3': array([[-0.00249016],\n",
       "        [ 0.00958281],\n",
       "        [-0.00535   ],\n",
       "        [-0.00398186],\n",
       "        [ 0.00020487],\n",
       "        [ 0.00940242],\n",
       "        [-0.00122242],\n",
       "        [-0.01188802],\n",
       "        [-0.0033317 ],\n",
       "        [-0.00785686]]),\n",
       " 'W4': array([[-0.00306483,  0.00143005,  0.00943454, -0.00342719, -0.02099074,\n",
       "         -0.01149214, -0.00797882, -0.00809984,  0.00035898, -0.00513838]]),\n",
       " 'B4': array([[0.01039146]])}"
      ]
     },
     "execution_count": 14,
     "metadata": {},
     "output_type": "execute_result"
    }
   ],
   "source": [
    "def initialize_params(layer_sizes):\n",
    "    params = {} #defining paramets as dictionary which contains weights and biases as W and B in the prefix\n",
    "    for i in range(1, len(layer_sizes)):\n",
    "        params['W' + str(i)] = np.random.randn(layer_sizes[i], layer_sizes[i-1])*0.01\n",
    "        params['B' + str(i)] = np.random.randn(layer_sizes[i],1)*0.01\n",
    "    return params\n",
    "\n",
    "params_temp = initialize_params([13,0,20,10,1])\n",
    "params_temp"
   ]
  },
  {
   "cell_type": "markdown",
   "id": "89da1c02",
   "metadata": {},
   "source": [
    "### Forward Propagation"
   ]
  },
  {
   "cell_type": "code",
   "execution_count": 15,
   "id": "4103220b",
   "metadata": {},
   "outputs": [],
   "source": [
    "def forward_propagation(X_train, params):\n",
    "    layers = len(layer_sizes)-1 # Defining the number of layers\n",
    "    values = {} #defining as dictionary to store the values of Z and Activations required for the backpropagations\n",
    "    \n",
    "    for i in range(1, layers+1):\n",
    "        if i==1: #for first layer, the imput is multiplied with weights and aDDED with bias\n",
    "            values['Z' + str(i)] = np.dot(params['W' + str(i)], X_train) + params['B' + str(i)]\n",
    "            values['A' + str(i)] = relu(values['Z' + str(i)]) #computing activations\n",
    "        else:\n",
    "            values['Z' + str(i)] = np.dot(params['W' + str(i)], values['A' + str(i-1)]) + params['B' + str(i)]\n",
    "            if i==layers: #for last layer, activations are computed without applying relu\n",
    "                values['A' + str(i)] = values['Z' + str(i)]\n",
    "            else:\n",
    "                values['A' + str(i)] = relu(values['Z' + str(i)])\n",
    "    return values\n",
    "\n",
    "# val = forward_propagation(x_train.T,params_temp)"
   ]
  },
  {
   "cell_type": "markdown",
   "id": "db33ec47",
   "metadata": {},
   "source": [
    "### Compute COst"
   ]
  },
  {
   "cell_type": "code",
   "execution_count": 17,
   "id": "3c47a0ea",
   "metadata": {},
   "outputs": [],
   "source": [
    "def compute_cost(values, Y_train): #mean squared error computation\n",
    "    layers = len(layer_sizes)-1\n",
    "    Y_pred = values['A' + str(layers)]\n",
    "    cost = 1/(2*len(Y_train)) * (np.sum(np.square(Y_pred - Y_train)))\n",
    "    return cost"
   ]
  },
  {
   "cell_type": "markdown",
   "id": "6fb818fe",
   "metadata": {},
   "source": [
    "### Back Propagation"
   ]
  },
  {
   "cell_type": "code",
   "execution_count": 18,
   "id": "f1d5af96",
   "metadata": {},
   "outputs": [],
   "source": [
    "def backward_propagation(params, values, X_train, Y_train):\n",
    "    layers = len(layer_sizes)-1\n",
    "    m = len(Y_train)\n",
    "    grads = {}\n",
    "    for i in range(layers,0,-1):\n",
    "        if i==layers: #for last layer dz = da as no relu non-linearity has been applied\n",
    "            dA = 1/m * (values['A' + str(i)] - Y_train)\n",
    "            dZ = dA\n",
    "        else:\n",
    "            dA = np.dot(params['W' + str(i+1)].T, dZ) #for internal layers multiply the dz of next layer with the weights\n",
    "            dZ = np.multiply(dA, np.where(values['A' + str(i)]>=0, 1, 0)) # calculate dz using relu concept of backprop on da\n",
    "        if i==1:\n",
    "            grads['W' + str(i)] = 1/m * np.dot(dZ, X_train.T)\n",
    "            grads['B' + str(i)] = 1/m * np.sum(dZ, axis=1, keepdims=True)\n",
    "        else:\n",
    "            grads['W' + str(i)] = 1/m * np.dot(dZ,values['A' + str(i-1)].T)\n",
    "            grads['B' + str(i)] = 1/m * np.sum(dZ, axis=1, keepdims=True)\n",
    "    return grads"
   ]
  },
  {
   "cell_type": "markdown",
   "id": "3e14ac96",
   "metadata": {},
   "source": [
    "### Upgrade parameters with Gradients"
   ]
  },
  {
   "cell_type": "code",
   "execution_count": 19,
   "id": "468f25df",
   "metadata": {},
   "outputs": [],
   "source": [
    "def update_params(params, grads, learning_rate):\n",
    "    layers = len(layer_sizes)-1\n",
    "    params_updated = {}\n",
    "    for i in range(1,layers+1):\n",
    "        params_updated['W' + str(i)] = params['W' + str(i)] - learning_rate * grads['W' + str(i)]\n",
    "        params_updated['B' + str(i)] = params['B' + str(i)] - learning_rate * grads['B' + str(i)]\n",
    "    return params_updated"
   ]
  },
  {
   "cell_type": "markdown",
   "id": "2b65fa5d",
   "metadata": {},
   "source": [
    "### Compute test loss"
   ]
  },
  {
   "cell_type": "code",
   "execution_count": 20,
   "id": "dfa61d04",
   "metadata": {},
   "outputs": [],
   "source": [
    "def compute_test_loss(x_test,y_test, params):\n",
    "    values_train = forward_propagation(x_test.T, params)\n",
    "    test_loss = np.sqrt(mean_squared_error(y_test, values_train['A' + str(len(layer_sizes)-1)].T))\n",
    "    return test_loss"
   ]
  },
  {
   "cell_type": "markdown",
   "id": "076f5898",
   "metadata": {},
   "source": [
    "### Prediction"
   ]
  },
  {
   "cell_type": "code",
   "execution_count": 21,
   "id": "16aa3f60",
   "metadata": {},
   "outputs": [],
   "source": [
    "def predict(X, params):\n",
    "    values = forward_propagation(X.T, params)\n",
    "    predictions = values['A' + str(len(values)//2)].T\n",
    "    return predictions"
   ]
  },
  {
   "cell_type": "markdown",
   "id": "c9650401",
   "metadata": {},
   "source": [
    "### Conjuring Up a Neural Network"
   ]
  },
  {
   "cell_type": "code",
   "execution_count": 22,
   "id": "6a64f8b1",
   "metadata": {},
   "outputs": [],
   "source": [
    "def model(X_train, Y_train, layer_sizes, num_iters, learning_rate):\n",
    "    train_loss = []\n",
    "    test_loss = []\n",
    "    params = initialize_params(layer_sizes)\n",
    "    \n",
    "    for i in range(num_iters):\n",
    "        values = forward_propagation(X_train.T, params)\n",
    "        \n",
    "        cost = compute_cost(values, Y_train.T)\n",
    "        test_cost = compute_test_loss(x_test,y_test,params)\n",
    "        \n",
    "        train_loss.append(cost)\n",
    "        test_loss.append(test_cost)\n",
    "        \n",
    "        grads = backward_propagation(params, values,X_train.T, Y_train.T)\n",
    "        params = update_params(params, grads, learning_rate)\n",
    "        \n",
    "        if(i%100 == 0):\n",
    "            print(\"Current Learning Rate is : {}\".format(learning_rate))\n",
    "            print('Cost at iteration ' + str(i+1) + ' = ' + str(cost) + '\\n')\n",
    "            if(i!=0):\n",
    "                learning_rate = learning_rate*0.95 #learning rate scheduler\n",
    "    \n",
    "    fig, ax = plt.subplots(1,2, figsize = (15,8))\n",
    "    \n",
    "    ax[0].plot(range(num_iters),train_loss)\n",
    "    ax[0].set_title(\"training loss trend\")\n",
    "    ax[1].plot(range(num_iters),test_loss, color = 'red')\n",
    "    ax[1].set_title(\"test loss trend\")\n",
    "    \n",
    "    return params"
   ]
  },
  {
   "cell_type": "code",
   "execution_count": 23,
   "id": "54fdf476",
   "metadata": {},
   "outputs": [
    {
     "name": "stdout",
     "output_type": "stream",
     "text": [
      "Current Learning Rate is : 0.5\n",
      "Cost at iteration 1 = 0.5000275899922761\n",
      "\n",
      "Current Learning Rate is : 0.5\n",
      "Cost at iteration 101 = 0.5000112716541517\n",
      "\n",
      "Current Learning Rate is : 0.475\n",
      "Cost at iteration 201 = 0.500004814193549\n",
      "\n",
      "Current Learning Rate is : 0.45125\n",
      "Cost at iteration 301 = 0.5000021458618089\n",
      "\n",
      "Current Learning Rate is : 0.42868749999999994\n",
      "Cost at iteration 401 = 0.5000009961477465\n",
      "\n",
      "Current Learning Rate is : 0.40725312499999994\n",
      "Cost at iteration 501 = 0.500000480688724\n",
      "\n",
      "Current Learning Rate is : 0.38689046874999994\n",
      "Cost at iteration 601 = 0.5000002407050018\n",
      "\n",
      "Current Learning Rate is : 0.3675459453124999\n",
      "Cost at iteration 701 = 0.5000001249003129\n",
      "\n",
      "Current Learning Rate is : 0.34916864804687486\n",
      "Cost at iteration 801 = 0.5000000670850306\n",
      "\n",
      "Current Learning Rate is : 0.3317102156445311\n",
      "Cost at iteration 901 = 0.50000003727334\n",
      "\n",
      "Current Learning Rate is : 0.31512470486230454\n",
      "Cost at iteration 1001 = 0.5000000214225415\n",
      "\n",
      "Current Learning Rate is : 0.2993684696191893\n",
      "Cost at iteration 1101 = 0.5000000127456279\n",
      "\n",
      "Current Learning Rate is : 0.2844000461382298\n",
      "Cost at iteration 1201 = 0.5000000078625678\n",
      "\n",
      "Current Learning Rate is : 0.2701800438313183\n",
      "Cost at iteration 1301 = 0.5000000050414132\n",
      "\n",
      "Current Learning Rate is : 0.25667104163975235\n",
      "Cost at iteration 1401 = 0.5000000033703389\n",
      "\n",
      "Current Learning Rate is : 0.24383748955776471\n",
      "Cost at iteration 1501 = 0.5000000023567687\n",
      "\n",
      "Current Learning Rate is : 0.23164561507987647\n",
      "Cost at iteration 1601 = 0.5000000017280103\n",
      "\n",
      "Current Learning Rate is : 0.22006333432588263\n",
      "Cost at iteration 1701 = 0.5000000013295414\n",
      "\n",
      "Current Learning Rate is : 0.20906016760958848\n",
      "Cost at iteration 1801 = 0.5000000010718378\n",
      "\n",
      "Current Learning Rate is : 0.19860715922910904\n",
      "Cost at iteration 1901 = 0.5000000009019283\n",
      "\n",
      "Current Learning Rate is : 0.18867680126765357\n",
      "Cost at iteration 2001 = 0.500000000787833\n",
      "\n",
      "Current Learning Rate is : 0.17924296120427088\n",
      "Cost at iteration 2101 = 0.5000000007098733\n",
      "\n",
      "Current Learning Rate is : 0.17028081314405732\n",
      "Cost at iteration 2201 = 0.5000000006557169\n",
      "\n",
      "Current Learning Rate is : 0.16176677248685445\n",
      "Cost at iteration 2301 = 0.5000000006175014\n",
      "\n",
      "Current Learning Rate is : 0.15367843386251173\n",
      "Cost at iteration 2401 = 0.5000000005901292\n",
      "\n",
      "Current Learning Rate is : 0.14599451216938614\n",
      "Cost at iteration 2501 = 0.5000000005702442\n",
      "\n",
      "Current Learning Rate is : 0.13869478656091683\n",
      "Cost at iteration 2601 = 0.5000000005556026\n",
      "\n",
      "Current Learning Rate is : 0.131760047232871\n",
      "Cost at iteration 2701 = 0.5000000005446832\n",
      "\n",
      "Current Learning Rate is : 0.12517204487122743\n",
      "Cost at iteration 2801 = 0.5000000005364402\n",
      "\n",
      "Current Learning Rate is : 0.11891344262766605\n",
      "Cost at iteration 2901 = 0.5000000005301455\n",
      "\n",
      "Current Learning Rate is : 0.11296777049628275\n",
      "Cost at iteration 3001 = 0.5000000005252855\n",
      "\n",
      "Current Learning Rate is : 0.1073193819714686\n",
      "Cost at iteration 3101 = 0.500000000521494\n",
      "\n",
      "Current Learning Rate is : 0.10195341287289517\n",
      "Cost at iteration 3201 = 0.5000000005185065\n",
      "\n",
      "Current Learning Rate is : 0.0968557422292504\n",
      "Cost at iteration 3301 = 0.5000000005161304\n",
      "\n",
      "Current Learning Rate is : 0.09201295511778788\n",
      "Cost at iteration 3401 = 0.5000000005142237\n",
      "\n",
      "Current Learning Rate is : 0.08741230736189849\n",
      "Cost at iteration 3501 = 0.5000000005126805\n",
      "\n",
      "Current Learning Rate is : 0.08304169199380357\n",
      "Cost at iteration 3601 = 0.5000000005114213\n",
      "\n",
      "Current Learning Rate is : 0.07888960739411338\n",
      "Cost at iteration 3701 = 0.5000000005103861\n",
      "\n",
      "Current Learning Rate is : 0.07494512702440771\n",
      "Cost at iteration 3801 = 0.5000000005095288\n",
      "\n",
      "Current Learning Rate is : 0.07119787067318732\n",
      "Cost at iteration 3901 = 0.5000000005088138\n",
      "\n",
      "Current Learning Rate is : 0.06763797713952795\n",
      "Cost at iteration 4001 = 0.5000000005082136\n",
      "\n",
      "Current Learning Rate is : 0.06425607828255155\n",
      "Cost at iteration 4101 = 0.5000000005077067\n",
      "\n",
      "Current Learning Rate is : 0.061043274368423966\n",
      "Cost at iteration 4201 = 0.5000000005072759\n",
      "\n",
      "Current Learning Rate is : 0.057991110650002765\n",
      "Cost at iteration 4301 = 0.5000000005069077\n",
      "\n",
      "Current Learning Rate is : 0.055091555117502626\n",
      "Cost at iteration 4401 = 0.5000000005065914\n",
      "\n",
      "Current Learning Rate is : 0.05233697736162749\n",
      "Cost at iteration 4501 = 0.5000000005063184\n",
      "\n",
      "Current Learning Rate is : 0.049720128493546116\n",
      "Cost at iteration 4601 = 0.5000000005060814\n",
      "\n",
      "Current Learning Rate is : 0.04723412206886881\n",
      "Cost at iteration 4701 = 0.5000000005058749\n",
      "\n",
      "Current Learning Rate is : 0.04487241596542537\n",
      "Cost at iteration 4801 = 0.500000000505694\n",
      "\n",
      "Current Learning Rate is : 0.0426287951671541\n",
      "Cost at iteration 4901 = 0.5000000005055351\n",
      "\n",
      "Root Mean Squared Error on Testing Data = 1.0000000009563719\n"
     ]
    },
    {
     "data": {
      "image/png": "[encoded data removed]",
      "text/plain": [
       "<Figure size 1080x576 with 2 Axes>"
      ]
     },
     "metadata": {
      "needs_background": "light"
     },
     "output_type": "display_data"
    }
   ],
   "source": [
    "layer_sizes = [7, 32, 64, 32, 8, 1]            #set layer sizes ; size of the first and last layer must\\\n",
    "                                                #be according to the features and expected output dimensions\n",
    "num_iters = 5000                                 #set number of training iterations over\n",
    "learning_rate = 0.5                              #set learning rate for gradient descent\n",
    "params = model(x_train, y_train, layer_sizes, num_iters, learning_rate)           #train the model on the traingin data\n",
    "test_rmse= compute_test_loss(x_test, y_test, params)  #get training and test accuracy\n",
    "\n",
    "print('Root Mean Squared Error on Testing Data = ' + str(test_rmse))"
   ]
  },
  {
   "cell_type": "markdown",
   "id": "26dcfa9b",
   "metadata": {},
   "source": [
    "### Thank You"
   ]
  }
 ],
 "metadata": {
  "kernelspec": {
   "display_name": "Python 3",
   "language": "python",
   "name": "python3"
  },
  "language_info": {
   "codemirror_mode": {
    "name": "ipython",
    "version": 3
   },
   "file_extension": ".py",
   "mimetype": "text/x-python",
   "name": "python",
   "nbconvert_exporter": "python",
   "pygments_lexer": "ipython3",
   "version": "3.8.8"
  }
 },
 "nbformat": 4,
 "nbformat_minor": 5
}
