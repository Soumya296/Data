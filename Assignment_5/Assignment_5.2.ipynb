{
 "cells": [
  {
   "cell_type": "markdown",
   "id": "fcce6302",
   "metadata": {},
   "source": [
    "## Logistic Regression"
   ]
  },
  {
   "cell_type": "markdown",
   "id": "6cc41a43",
   "metadata": {},
   "source": [
    "### import libraries"
   ]
  },
  {
   "cell_type": "code",
   "execution_count": 90,
   "id": "4053c0c2",
   "metadata": {},
   "outputs": [],
   "source": [
    "import pandas as pd\n",
    "import numpy as np\n",
    "import matplotlib.pyplot as plt\n",
    "%matplotlib inline\n",
    "\n",
    "from sklearn.model_selection import train_test_split"
   ]
  },
  {
   "cell_type": "markdown",
   "id": "0966928b",
   "metadata": {},
   "source": [
    "### Reading Dataset"
   ]
  },
  {
   "cell_type": "code",
   "execution_count": 17,
   "id": "08a47500",
   "metadata": {},
   "outputs": [
    {
     "data": {
      "text/html": [
       "<div>\n",
       "<style scoped>\n",
       "    .dataframe tbody tr th:only-of-type {\n",
       "        vertical-align: middle;\n",
       "    }\n",
       "\n",
       "    .dataframe tbody tr th {\n",
       "        vertical-align: top;\n",
       "    }\n",
       "\n",
       "    .dataframe thead th {\n",
       "        text-align: right;\n",
       "    }\n",
       "</style>\n",
       "<table border=\"1\" class=\"dataframe\">\n",
       "  <thead>\n",
       "    <tr style=\"text-align: right;\">\n",
       "      <th></th>\n",
       "      <th>age</th>\n",
       "      <th>sex</th>\n",
       "      <th>cp</th>\n",
       "      <th>trestbps</th>\n",
       "      <th>chol</th>\n",
       "      <th>fbs</th>\n",
       "      <th>restecg</th>\n",
       "      <th>thalach</th>\n",
       "      <th>exang</th>\n",
       "      <th>oldpeak</th>\n",
       "      <th>slope</th>\n",
       "      <th>ca</th>\n",
       "      <th>thal</th>\n",
       "      <th>target</th>\n",
       "    </tr>\n",
       "  </thead>\n",
       "  <tbody>\n",
       "    <tr>\n",
       "      <th>0</th>\n",
       "      <td>64</td>\n",
       "      <td>1</td>\n",
       "      <td>0</td>\n",
       "      <td>145</td>\n",
       "      <td>212</td>\n",
       "      <td>0</td>\n",
       "      <td>0</td>\n",
       "      <td>132</td>\n",
       "      <td>0</td>\n",
       "      <td>2.0</td>\n",
       "      <td>1</td>\n",
       "      <td>2</td>\n",
       "      <td>1</td>\n",
       "      <td>0</td>\n",
       "    </tr>\n",
       "    <tr>\n",
       "      <th>1</th>\n",
       "      <td>41</td>\n",
       "      <td>1</td>\n",
       "      <td>1</td>\n",
       "      <td>135</td>\n",
       "      <td>203</td>\n",
       "      <td>0</td>\n",
       "      <td>1</td>\n",
       "      <td>132</td>\n",
       "      <td>0</td>\n",
       "      <td>0.0</td>\n",
       "      <td>1</td>\n",
       "      <td>0</td>\n",
       "      <td>1</td>\n",
       "      <td>1</td>\n",
       "    </tr>\n",
       "    <tr>\n",
       "      <th>2</th>\n",
       "      <td>53</td>\n",
       "      <td>1</td>\n",
       "      <td>2</td>\n",
       "      <td>130</td>\n",
       "      <td>246</td>\n",
       "      <td>1</td>\n",
       "      <td>0</td>\n",
       "      <td>173</td>\n",
       "      <td>0</td>\n",
       "      <td>0.0</td>\n",
       "      <td>2</td>\n",
       "      <td>3</td>\n",
       "      <td>2</td>\n",
       "      <td>1</td>\n",
       "    </tr>\n",
       "    <tr>\n",
       "      <th>3</th>\n",
       "      <td>61</td>\n",
       "      <td>1</td>\n",
       "      <td>0</td>\n",
       "      <td>140</td>\n",
       "      <td>207</td>\n",
       "      <td>0</td>\n",
       "      <td>0</td>\n",
       "      <td>138</td>\n",
       "      <td>1</td>\n",
       "      <td>1.9</td>\n",
       "      <td>2</td>\n",
       "      <td>1</td>\n",
       "      <td>3</td>\n",
       "      <td>0</td>\n",
       "    </tr>\n",
       "    <tr>\n",
       "      <th>4</th>\n",
       "      <td>57</td>\n",
       "      <td>1</td>\n",
       "      <td>0</td>\n",
       "      <td>165</td>\n",
       "      <td>289</td>\n",
       "      <td>1</td>\n",
       "      <td>0</td>\n",
       "      <td>124</td>\n",
       "      <td>0</td>\n",
       "      <td>1.0</td>\n",
       "      <td>1</td>\n",
       "      <td>3</td>\n",
       "      <td>3</td>\n",
       "      <td>0</td>\n",
       "    </tr>\n",
       "    <tr>\n",
       "      <th>...</th>\n",
       "      <td>...</td>\n",
       "      <td>...</td>\n",
       "      <td>...</td>\n",
       "      <td>...</td>\n",
       "      <td>...</td>\n",
       "      <td>...</td>\n",
       "      <td>...</td>\n",
       "      <td>...</td>\n",
       "      <td>...</td>\n",
       "      <td>...</td>\n",
       "      <td>...</td>\n",
       "      <td>...</td>\n",
       "      <td>...</td>\n",
       "      <td>...</td>\n",
       "    </tr>\n",
       "    <tr>\n",
       "      <th>298</th>\n",
       "      <td>43</td>\n",
       "      <td>1</td>\n",
       "      <td>0</td>\n",
       "      <td>132</td>\n",
       "      <td>247</td>\n",
       "      <td>1</td>\n",
       "      <td>0</td>\n",
       "      <td>143</td>\n",
       "      <td>1</td>\n",
       "      <td>0.1</td>\n",
       "      <td>1</td>\n",
       "      <td>4</td>\n",
       "      <td>3</td>\n",
       "      <td>0</td>\n",
       "    </tr>\n",
       "    <tr>\n",
       "      <th>299</th>\n",
       "      <td>41</td>\n",
       "      <td>1</td>\n",
       "      <td>2</td>\n",
       "      <td>112</td>\n",
       "      <td>250</td>\n",
       "      <td>0</td>\n",
       "      <td>1</td>\n",
       "      <td>179</td>\n",
       "      <td>0</td>\n",
       "      <td>0.0</td>\n",
       "      <td>2</td>\n",
       "      <td>0</td>\n",
       "      <td>2</td>\n",
       "      <td>1</td>\n",
       "    </tr>\n",
       "    <tr>\n",
       "      <th>300</th>\n",
       "      <td>56</td>\n",
       "      <td>1</td>\n",
       "      <td>0</td>\n",
       "      <td>130</td>\n",
       "      <td>283</td>\n",
       "      <td>1</td>\n",
       "      <td>0</td>\n",
       "      <td>103</td>\n",
       "      <td>1</td>\n",
       "      <td>1.6</td>\n",
       "      <td>0</td>\n",
       "      <td>0</td>\n",
       "      <td>3</td>\n",
       "      <td>0</td>\n",
       "    </tr>\n",
       "    <tr>\n",
       "      <th>301</th>\n",
       "      <td>37</td>\n",
       "      <td>0</td>\n",
       "      <td>2</td>\n",
       "      <td>120</td>\n",
       "      <td>215</td>\n",
       "      <td>0</td>\n",
       "      <td>1</td>\n",
       "      <td>170</td>\n",
       "      <td>0</td>\n",
       "      <td>0.0</td>\n",
       "      <td>2</td>\n",
       "      <td>0</td>\n",
       "      <td>2</td>\n",
       "      <td>1</td>\n",
       "    </tr>\n",
       "    <tr>\n",
       "      <th>302</th>\n",
       "      <td>52</td>\n",
       "      <td>1</td>\n",
       "      <td>1</td>\n",
       "      <td>134</td>\n",
       "      <td>201</td>\n",
       "      <td>0</td>\n",
       "      <td>1</td>\n",
       "      <td>158</td>\n",
       "      <td>0</td>\n",
       "      <td>0.8</td>\n",
       "      <td>2</td>\n",
       "      <td>1</td>\n",
       "      <td>2</td>\n",
       "      <td>1</td>\n",
       "    </tr>\n",
       "  </tbody>\n",
       "</table>\n",
       "<p>303 rows × 14 columns</p>\n",
       "</div>"
      ],
      "text/plain": [
       "     age  sex  cp  trestbps  chol  fbs  restecg  thalach  exang  oldpeak  \\\n",
       "0     64    1   0       145   212    0        0      132      0      2.0   \n",
       "1     41    1   1       135   203    0        1      132      0      0.0   \n",
       "2     53    1   2       130   246    1        0      173      0      0.0   \n",
       "3     61    1   0       140   207    0        0      138      1      1.9   \n",
       "4     57    1   0       165   289    1        0      124      0      1.0   \n",
       "..   ...  ...  ..       ...   ...  ...      ...      ...    ...      ...   \n",
       "298   43    1   0       132   247    1        0      143      1      0.1   \n",
       "299   41    1   2       112   250    0        1      179      0      0.0   \n",
       "300   56    1   0       130   283    1        0      103      1      1.6   \n",
       "301   37    0   2       120   215    0        1      170      0      0.0   \n",
       "302   52    1   1       134   201    0        1      158      0      0.8   \n",
       "\n",
       "     slope  ca  thal  target  \n",
       "0        1   2     1       0  \n",
       "1        1   0     1       1  \n",
       "2        2   3     2       1  \n",
       "3        2   1     3       0  \n",
       "4        1   3     3       0  \n",
       "..     ...  ..   ...     ...  \n",
       "298      1   4     3       0  \n",
       "299      2   0     2       1  \n",
       "300      0   0     3       0  \n",
       "301      2   0     2       1  \n",
       "302      2   1     2       1  \n",
       "\n",
       "[303 rows x 14 columns]"
      ]
     },
     "execution_count": 17,
     "metadata": {},
     "output_type": "execute_result"
    }
   ],
   "source": [
    "dataset = pd.read_csv('heart.csv')\n",
    "dataset = dataset.sample(frac=1).reset_index(drop = True) ##shuffing the dataframe\n",
    "dataset"
   ]
  },
  {
   "cell_type": "code",
   "execution_count": 44,
   "id": "c8dea5a3",
   "metadata": {},
   "outputs": [
    {
     "data": {
      "text/plain": [
       "(303, 13)"
      ]
     },
     "execution_count": 44,
     "metadata": {},
     "output_type": "execute_result"
    }
   ],
   "source": [
    "x = dataset[dataset.columns[:-1]].to_numpy() #independent variables\n",
    "y = dataset[dataset.columns[-1]].to_numpy() #dependent variables\n",
    "x.shape"
   ]
  },
  {
   "cell_type": "code",
   "execution_count": 45,
   "id": "e2ad8f18",
   "metadata": {},
   "outputs": [
    {
     "data": {
      "text/plain": [
       "(303, 1)"
      ]
     },
     "execution_count": 45,
     "metadata": {},
     "output_type": "execute_result"
    }
   ],
   "source": [
    "y = y[:,np.newaxis]\n",
    "y.shape"
   ]
  },
  {
   "cell_type": "markdown",
   "id": "bfa005ac",
   "metadata": {},
   "source": [
    "### Splitting Dataset"
   ]
  },
  {
   "cell_type": "code",
   "execution_count": 46,
   "id": "ea223980",
   "metadata": {},
   "outputs": [
    {
     "name": "stdout",
     "output_type": "stream",
     "text": [
      "Shape of \n",
      "X_train: (242, 13) \n",
      "X_test: (61, 13) \n",
      "Y_train: (242, 1) \n",
      "Y_test: (61, 1)\n"
     ]
    }
   ],
   "source": [
    "x_train, x_test, y_train, y_test = train_test_split(x,y,test_size=0.2) #splitting the data in 80:20\n",
    "print(\"Shape of \\nX_train: {} \\nX_test: {} \\nY_train: {} \\nY_test: {}\".format(x_train.shape,x_test.shape,y_train.shape,y_test.shape))"
   ]
  },
  {
   "cell_type": "markdown",
   "id": "d81ec18e",
   "metadata": {},
   "source": [
    "### Sigmoid Function"
   ]
  },
  {
   "cell_type": "code",
   "execution_count": 47,
   "id": "0fed06ed",
   "metadata": {},
   "outputs": [],
   "source": [
    "def sigmoid(z): #sigmoid function required for logistic regression\n",
    "    return 1/(1+np.exp(-z))"
   ]
  },
  {
   "cell_type": "markdown",
   "id": "f28a4c81",
   "metadata": {},
   "source": [
    "### Weight and Bias Initialization"
   ]
  },
  {
   "cell_type": "code",
   "execution_count": 48,
   "id": "3231897a",
   "metadata": {},
   "outputs": [],
   "source": [
    "def init_weight_bias(dim): #initialize the weights and biases according to the required dimensions\n",
    "    wt = np.zeros((dim,1))\n",
    "    b = 0\n",
    "    return wt,b"
   ]
  },
  {
   "cell_type": "markdown",
   "id": "6882effe",
   "metadata": {},
   "source": [
    "### Forward Propagation"
   ]
  },
  {
   "cell_type": "code",
   "execution_count": 51,
   "id": "246df3a9",
   "metadata": {},
   "outputs": [],
   "source": [
    "def forward(x,y,w,b): #calculate the gradients and the cost on forward propagation\n",
    "    m = x.shape[0]\n",
    "    a = sigmoid(np.dot(x,w)+b)\n",
    "    cost = -(1 / m) * np.sum(y * np.log(a) + (1 - y) * np.log(1 - a)) #computing the cost function or the error function\n",
    "    dw = (1 / m) * np.dot(x.T, (a - y))   #this is derivative of the cost function with respect to w\n",
    "    db = (1 / m) * np.sum(a - y)          #this is the derivative of the cost function with respect to b\n",
    "    grads = {'dw': dw, 'db': db}          #these values are stored in a dictionary so as to access them later\n",
    "    return grads, cost "
   ]
  },
  {
   "cell_type": "markdown",
   "id": "e6f14a92",
   "metadata": {},
   "source": [
    "### Opitmizer"
   ]
  },
  {
   "cell_type": "code",
   "execution_count": 85,
   "id": "9caa68b5",
   "metadata": {},
   "outputs": [],
   "source": [
    "def optimize(x,y,w,b,iteration,lr,show_cost = True): #optimize the weights and biases\n",
    "    costs = []\n",
    "    for i in range(iteration):\n",
    "        grads,cost = forward(x,y,w,b)\n",
    "        dw = grads['dw']\n",
    "        db = grads['db']\n",
    "        w -= lr * dw\n",
    "        b -= lr * db\n",
    "        np.squeeze(cost)\n",
    "        if i%500 == 0:\n",
    "            costs.append(cost)\n",
    "            if show_cost:\n",
    "                print(\"cost after {} iterations :{}\".format(i,cost))\n",
    "    plt.plot(np.squeeze(costs),color='orange')\n",
    "    plt.ylabel('cost')\n",
    "    plt.xlabel('iterations (per tens)')\n",
    "    plt.title(\"Learning rate = \" + str(lr))\n",
    "    plt.show()\n",
    "    params = {'w': w, 'b': db}                    #storing value in the dictionary for future access\n",
    "    grads = {'dw': dw, 'db': db}                  #storing value in the dictionary for future access\n",
    "    return params, grads, costs"
   ]
  },
  {
   "cell_type": "markdown",
   "id": "b488971a",
   "metadata": {},
   "source": [
    "### Prediction FUnction"
   ]
  },
  {
   "cell_type": "code",
   "execution_count": 86,
   "id": "fdc8ae3b",
   "metadata": {},
   "outputs": [],
   "source": [
    "def predict(w, b, x):\n",
    "    m = x.shape[0]\n",
    "    y_prediction = np.zeros((m, 1))\n",
    "    A = sigmoid(np.dot(x, w) + b)\n",
    "    for i in range(A.shape[0]):\n",
    "        if (A[i, 0] <= 0.5):\n",
    "            y_prediction[i, 0] = 0\n",
    "        else:\n",
    "            y_prediction[i, 0] = 1\n",
    "            \n",
    "    return y_prediction"
   ]
  },
  {
   "cell_type": "markdown",
   "id": "467ac004",
   "metadata": {},
   "source": [
    "### Summing up as model"
   ]
  },
  {
   "cell_type": "code",
   "execution_count": 87,
   "id": "e595d94d",
   "metadata": {},
   "outputs": [],
   "source": [
    "def logistic_regression(X_train, X_test, y_train, y_test, num_iterations, learning_rate, print_cost = True):\n",
    "    w, b = init_weight_bias(X_train.shape[1])\n",
    "    parameters, grads, costs = optimize(X_train, y_train,w,b, num_iterations, learning_rate)\n",
    "    w = parameters[\"w\"]\n",
    "    b = parameters[\"b\"]\n",
    "    y_prediction_test = predict(w, b, X_test)\n",
    "    y_prediction_train = predict(w, b, X_train)\n",
    "    \n",
    "    print('train accuracy: {}'.format(100 - np.mean(np.abs(y_prediction_train - y_train)) * 100))\n",
    "    print('test accuracy: {}'.format(\"test accuracy: {} %\".format(100 - np.mean(np.abs(y_prediction_test - y_test)) * 100)))\n",
    "    \n",
    "    d = {\"costs\": costs,\n",
    "         \"y_prediction_test\": y_prediction_test, \n",
    "         \"y_prediction_train\" : y_prediction_train, \n",
    "         \"w\" : w, \n",
    "         \"b\" : b,\n",
    "         \"learning_rate\" : learning_rate,\n",
    "         \"num_iterations\": num_iterations}\n",
    "    \n",
    "    return d"
   ]
  },
  {
   "cell_type": "code",
   "execution_count": 88,
   "id": "b5b1f776",
   "metadata": {},
   "outputs": [
    {
     "name": "stdout",
     "output_type": "stream",
     "text": [
      "cost after 0 iterations :0.6931471805599453\n",
      "cost after 500 iterations :0.9679736052485857\n",
      "cost after 1000 iterations :0.9568059378919556\n",
      "cost after 1500 iterations :0.9499027686133058\n",
      "cost after 2000 iterations :0.9432626317335868\n",
      "cost after 2500 iterations :0.9367641802972672\n",
      "cost after 3000 iterations :0.9303584574983875\n",
      "cost after 3500 iterations :0.9240201500923151\n",
      "cost after 4000 iterations :0.917736057447954\n",
      "cost after 4500 iterations :0.9114994171538602\n",
      "cost after 5000 iterations :0.9053069293476338\n",
      "cost after 5500 iterations :0.8991571611557575\n",
      "cost after 6000 iterations :0.8930496822234703\n",
      "cost after 6500 iterations :0.8869845935340716\n",
      "cost after 7000 iterations :0.8809622694550685\n",
      "cost after 7500 iterations :0.8749832159737406\n",
      "cost after 8000 iterations :0.8690479925233784\n",
      "cost after 8500 iterations :0.8631571687802468\n",
      "cost after 9000 iterations :0.8573113008079657\n",
      "cost after 9500 iterations :0.8515109179910388\n",
      "cost after 10000 iterations :0.8457565160484669\n",
      "cost after 10500 iterations :0.8400485535202733\n",
      "cost after 11000 iterations :0.8343874502703176\n",
      "cost after 11500 iterations :0.8287735871808525\n",
      "cost after 12000 iterations :0.8232073065633324\n",
      "cost after 12500 iterations :0.8176889130043492\n",
      "cost after 13000 iterations :0.8122186744753168\n",
      "cost after 13500 iterations :0.8067968235977395\n",
      "cost after 14000 iterations :0.8014235589934194\n",
      "cost after 14500 iterations :0.7960990466722049\n",
      "cost after 15000 iterations :0.7908234214248405\n",
      "cost after 15500 iterations :0.7855967881988366\n",
      "cost after 16000 iterations :0.780419223442483\n",
      "cost after 16500 iterations :0.7752907764076261\n",
      "cost after 17000 iterations :0.7702114704057835\n",
      "cost after 17500 iterations :0.765181304015336\n",
      "cost after 18000 iterations :0.7602002522397432\n",
      "cost after 18500 iterations :0.755268267618432\n",
      "cost after 19000 iterations :0.7503852812931495\n",
      "cost after 19500 iterations :0.7455512040333062\n",
      "cost after 20000 iterations :0.7407659272242351\n",
      "cost after 20500 iterations :0.7360293238224105\n",
      "cost after 21000 iterations :0.7313412492816305\n",
      "cost after 21500 iterations :0.7267015424538587\n",
      "cost after 22000 iterations :0.7221100264681716\n",
      "cost after 22500 iterations :0.717566509590748\n",
      "cost after 23000 iterations :0.7130707860684331\n",
      "cost after 23500 iterations :0.7086226369578945\n",
      "cost after 24000 iterations :0.7042218309419402\n",
      "cost after 24500 iterations :0.6998681251340519\n",
      "cost after 25000 iterations :0.6955612658718057\n",
      "cost after 25500 iterations :0.6913009894993849\n",
      "cost after 26000 iterations :0.6870870231390758\n",
      "cost after 26500 iterations :0.6829190854512615\n",
      "cost after 27000 iterations :0.6787968873821631\n",
      "cost after 27500 iterations :0.6747201328983241\n",
      "cost after 28000 iterations :0.6706885197066217\n",
      "cost after 28500 iterations :0.6667017399584382\n",
      "cost after 29000 iterations :0.662759480936443\n",
      "cost after 29500 iterations :0.658861425722415\n",
      "cost after 30000 iterations :0.6550072538443977\n",
      "cost after 30500 iterations :0.6511966419014914\n",
      "cost after 31000 iterations :0.6474292641645711\n",
      "cost after 31500 iterations :0.6437047931512422\n",
      "cost after 32000 iterations :0.6400229001734062\n",
      "cost after 32500 iterations :0.6363832558558813\n",
      "cost after 33000 iterations :0.6327855306246409\n",
      "cost after 33500 iterations :0.6292293951633158\n",
      "cost after 34000 iterations :0.6257145208368168\n",
      "cost after 34500 iterations :0.6222405800810297\n",
      "cost after 35000 iterations :0.6188072467577628\n",
      "cost after 35500 iterations :0.6154141964743067\n",
      "cost after 36000 iterations :0.612061106867149\n",
      "cost after 36500 iterations :0.6087476578496488\n",
      "cost after 37000 iterations :0.6054735318236598\n",
      "cost after 37500 iterations :0.6022384138553204\n",
      "cost after 38000 iterations :0.599041991815488\n",
      "cost after 38500 iterations :0.5958839564854774\n",
      "cost after 39000 iterations :0.5927640016290135\n",
      "cost after 39500 iterations :0.5896818240315257\n",
      "cost after 40000 iterations :0.5866371235080803\n",
      "cost after 40500 iterations :0.5836296028814892\n",
      "cost after 41000 iterations :0.5806589679322656\n",
      "cost after 41500 iterations :0.5777249273222977\n",
      "cost after 42000 iterations :0.5748271924942093\n",
      "cost after 42500 iterations :0.5719654775485473\n",
      "cost after 43000 iterations :0.5691394991009878\n",
      "cost after 43500 iterations :0.5663489761218867\n",
      "cost after 44000 iterations :0.5635936297604888\n",
      "cost after 44500 iterations :0.5608731831562105\n",
      "cost after 45000 iterations :0.5581873612393797\n",
      "cost after 45500 iterations :0.5555358905238105\n",
      "cost after 46000 iterations :0.5529184988935683\n",
      "cost after 46500 iterations :0.5503349153862255\n",
      "cost after 47000 iterations :0.5477848699748187\n",
      "cost after 47500 iterations :0.5452680933506531\n",
      "cost after 48000 iterations :0.5427843167089622\n",
      "cost after 48500 iterations :0.5403332715393392\n",
      "cost after 49000 iterations :0.5379146894227088\n",
      "cost after 49500 iterations :0.5355283018364418\n",
      "cost after 50000 iterations :0.5331738399691247\n",
      "cost after 50500 iterations :0.5308510345462538\n",
      "cost after 51000 iterations :0.5285596156680364\n",
      "cost after 51500 iterations :0.5262993126602665\n",
      "cost after 52000 iterations :0.5240698539390978\n",
      "cost after 52500 iterations :0.5218709668903779\n",
      "cost after 53000 iterations :0.5197023777640211\n",
      "cost after 53500 iterations :0.517563811583778\n",
      "cost after 54000 iterations :0.5154549920725802\n",
      "cost after 54500 iterations :0.5133756415935092\n",
      "cost after 55000 iterations :0.5113254811063003\n",
      "cost after 55500 iterations :0.5093042301391817\n",
      "cost after 56000 iterations :0.5073116067757151\n",
      "cost after 56500 iterations :0.5053473276562043\n",
      "cost after 57000 iterations :0.503411107993167\n",
      "cost after 57500 iterations :0.5015026616002529\n",
      "cost after 58000 iterations :0.49962170093393776\n",
      "cost after 58500 iterations :0.49776793714726686\n",
      "cost after 59000 iterations :0.49594108015485866\n",
      "cost after 59500 iterations :0.49414083870835446\n",
      "cost after 60000 iterations :0.492366920481465\n",
      "cost after 60500 iterations :0.4906190321637417\n",
      "cost after 61000 iterations :0.4888968795622081\n",
      "cost after 61500 iterations :0.48720016770996283\n",
      "cost after 62000 iterations :0.4855286009808881\n",
      "cost after 62500 iterations :0.4838818832095993\n",
      "cost after 63000 iterations :0.48225971781580107\n",
      "cost after 63500 iterations :0.48066180793223606\n",
      "cost after 64000 iterations :0.4790878565354246\n",
      "cost after 64500 iterations :0.4775375665784599\n",
      "cost after 65000 iterations :0.4760106411251344\n",
      "cost after 65500 iterations :0.47450678348470493\n",
      "cost after 66000 iterations :0.4730256973466891\n",
      "cost after 66500 iterations :0.4715670869150586\n",
      "cost after 67000 iterations :0.4701306570413132\n",
      "cost after 67500 iterations :0.4687161133559085\n",
      "cost after 68000 iterations :0.4673231623975622\n",
      "cost after 68500 iterations :0.46595151174005184\n",
      "cost after 69000 iterations :0.4646008701160834\n",
      "cost after 69500 iterations :0.4632709475379287\n",
      "cost after 70000 iterations :0.46196145541451455\n",
      "cost after 70500 iterations :0.46067210666470604\n",
      "cost after 71000 iterations :0.45940261582658004\n",
      "cost after 71500 iterations :0.45815269916248524\n",
      "cost after 72000 iterations :0.45692207475973545\n",
      "cost after 72500 iterations :0.4557104626268455\n",
      "cost after 73000 iterations :0.4545175847851707\n",
      "cost after 73500 iterations :0.4533431653559347\n",
      "cost after 74000 iterations :0.4521869306425701\n",
      "cost after 74500 iterations :0.45104860920837825\n",
      "cost after 75000 iterations :0.4499279319495123\n",
      "cost after 75500 iterations :0.44882463216329205\n",
      "cost after 76000 iterations :0.44773844561192505\n",
      "cost after 76500 iterations :0.4466691105816555\n",
      "cost after 77000 iterations :0.44561636793745024\n",
      "cost after 77500 iterations :0.4445799611732769\n",
      "cost after 78000 iterations :0.44355963645808794\n",
      "cost after 78500 iterations :0.44255514267760876\n",
      "cost after 79000 iterations :0.4415662314720442\n",
      "cost after 79500 iterations :0.44059265726982944\n",
      "cost after 80000 iterations :0.4396341773175259\n",
      "cost after 80500 iterations :0.4386905517060276\n",
      "cost after 81000 iterations :0.43776154339318746\n",
      "cost after 81500 iterations :0.43684691822298827\n",
      "cost after 82000 iterations :0.4359464449414326\n",
      "cost after 82500 iterations :0.43505989520924304\n",
      "cost after 83000 iterations :0.43418704361155136\n",
      "cost after 83500 iterations :0.4333276676646756\n",
      "cost after 84000 iterations :0.43248154782015547\n",
      "cost after 84500 iterations :0.43164846746615304\n",
      "cost after 85000 iterations :0.43082821292636714\n",
      "cost after 85500 iterations :0.43002057345658456\n"
     ]
    },
    {
     "name": "stdout",
     "output_type": "stream",
     "text": [
      "cost after 86000 iterations :0.4292253412389955\n",
      "cost after 86500 iterations :0.4284423113743966\n",
      "cost after 87000 iterations :0.4276712818724145\n",
      "cost after 87500 iterations :0.42691205363984097\n",
      "cost after 88000 iterations :0.42616443046722396\n",
      "cost after 88500 iterations :0.42542821901380934\n",
      "cost after 89000 iterations :0.42470322879093675\n",
      "cost after 89500 iterations :0.42398927214400683\n",
      "cost after 90000 iterations :0.42328616423310533\n",
      "cost after 90500 iterations :0.42259372301239057\n",
      "cost after 91000 iterations :0.4219117692083273\n",
      "cost after 91500 iterations :0.4212401262968601\n",
      "cost after 92000 iterations :0.4205786204796148\n",
      "cost after 92500 iterations :0.41992708065919787\n",
      "cost after 93000 iterations :0.4192853384136765\n",
      "cost after 93500 iterations :0.4186532279703213\n",
      "cost after 94000 iterations :0.4180305861786621\n",
      "cost after 94500 iterations :0.4174172524829474\n",
      "cost after 95000 iterations :0.4168130688940463\n",
      "cost after 95500 iterations :0.4162178799608749\n",
      "cost after 96000 iterations :0.4156315327413931\n",
      "cost after 96500 iterations :0.4150538767732231\n",
      "cost after 97000 iterations :0.41448476404395035\n",
      "cost after 97500 iterations :0.41392404896114793\n",
      "cost after 98000 iterations :0.4133715883221717\n",
      "cost after 98500 iterations :0.4128272412837727\n",
      "cost after 99000 iterations :0.4122908693315588\n",
      "cost after 99500 iterations :0.4117623362493605\n"
     ]
    },
    {
     "data": {
      "image/png": "[encoded data removed]",
      "text/plain": [
       "<Figure size 432x288 with 1 Axes>"
      ]
     },
     "metadata": {
      "needs_background": "light"
     },
     "output_type": "display_data"
    },
    {
     "name": "stdout",
     "output_type": "stream",
     "text": [
      "train accuracy: 80.57851239669421\n",
      "test accuracy: test accuracy: 83.60655737704919 %\n"
     ]
    }
   ],
   "source": [
    "log_Reg = logistic_regression(x_train,x_test,y_train,y_test,num_iterations=100000,learning_rate=0.00015,print_cost=True)"
   ]
  },
  {
   "cell_type": "markdown",
   "id": "fc7128bd",
   "metadata": {},
   "source": [
    "### Overlap of Test data Labels and Prediction Labels"
   ]
  },
  {
   "cell_type": "code",
   "execution_count": 89,
   "id": "4d74d80c",
   "metadata": {},
   "outputs": [
    {
     "data": {
      "image/png": "[encoded data removed]",
      "text/plain": [
       "<Figure size 432x288 with 1 Axes>"
      ]
     },
     "metadata": {
      "needs_background": "light"
     },
     "output_type": "display_data"
    }
   ],
   "source": [
    "plt.scatter(range(len(y_test)),y_test,label='true label',color='crimson')\n",
    "plt.scatter(range(len(log_Reg[\"y_prediction_test\"])),log_Reg[\"y_prediction_test\"],label='predictions',color='gray')\n",
    "plt.legend()\n",
    "plt.show()"
   ]
  },
  {
   "cell_type": "markdown",
   "id": "db23ca3a",
   "metadata": {},
   "source": [
    "### Thank you!!!"
   ]
  }
 ],
 "metadata": {
  "kernelspec": {
   "display_name": "Python 3",
   "language": "python",
   "name": "python3"
  },
  "language_info": {
   "codemirror_mode": {
    "name": "ipython",
    "version": 3
   },
   "file_extension": ".py",
   "mimetype": "text/x-python",
   "name": "python",
   "nbconvert_exporter": "python",
   "pygments_lexer": "ipython3",
   "version": "3.8.8"
  }
 },
 "nbformat": 4,
 "nbformat_minor": 5
}
