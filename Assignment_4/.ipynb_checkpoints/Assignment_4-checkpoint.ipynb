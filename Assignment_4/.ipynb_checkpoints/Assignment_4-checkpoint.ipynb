{
 "cells": [
  {
   "cell_type": "markdown",
   "metadata": {
    "id": "MF47DSPemrnX"
   },
   "source": [
    "# Polynomial Regression "
   ]
  },
  {
   "cell_type": "markdown",
   "metadata": {
    "id": "DXvL5a1RlAzE"
   },
   "source": [
    "### Importing the Dependencies"
   ]
  },
  {
   "cell_type": "code",
   "execution_count": 143,
   "metadata": {
    "id": "GXI1413Foust"
   },
   "outputs": [],
   "source": [
    "#importing the required packages\n",
    "import numpy as np\n",
    "import pandas as pd\n",
    "import matplotlib.pyplot as plt"
   ]
  },
  {
   "cell_type": "markdown",
   "metadata": {
    "id": "s0J-6GLhlFxE"
   },
   "source": [
    "### Get the Data and Data Preprocessing"
   ]
  },
  {
   "cell_type": "code",
   "execution_count": 188,
   "metadata": {
    "id": "Kr3QiE8Jf3Pa"
   },
   "outputs": [
    {
     "data": {
      "text/html": [
       "<div>\n",
       "<style scoped>\n",
       "    .dataframe tbody tr th:only-of-type {\n",
       "        vertical-align: middle;\n",
       "    }\n",
       "\n",
       "    .dataframe tbody tr th {\n",
       "        vertical-align: top;\n",
       "    }\n",
       "\n",
       "    .dataframe thead th {\n",
       "        text-align: right;\n",
       "    }\n",
       "</style>\n",
       "<table border=\"1\" class=\"dataframe\">\n",
       "  <thead>\n",
       "    <tr style=\"text-align: right;\">\n",
       "      <th></th>\n",
       "      <th>Position</th>\n",
       "      <th>Level</th>\n",
       "      <th>Salary</th>\n",
       "    </tr>\n",
       "  </thead>\n",
       "  <tbody>\n",
       "    <tr>\n",
       "      <th>0</th>\n",
       "      <td>Business Analyst</td>\n",
       "      <td>1</td>\n",
       "      <td>45000</td>\n",
       "    </tr>\n",
       "    <tr>\n",
       "      <th>1</th>\n",
       "      <td>Junior Consultant</td>\n",
       "      <td>2</td>\n",
       "      <td>50000</td>\n",
       "    </tr>\n",
       "    <tr>\n",
       "      <th>2</th>\n",
       "      <td>Senior Consultant</td>\n",
       "      <td>3</td>\n",
       "      <td>60000</td>\n",
       "    </tr>\n",
       "    <tr>\n",
       "      <th>3</th>\n",
       "      <td>Manager</td>\n",
       "      <td>4</td>\n",
       "      <td>80000</td>\n",
       "    </tr>\n",
       "    <tr>\n",
       "      <th>4</th>\n",
       "      <td>Country Manager</td>\n",
       "      <td>5</td>\n",
       "      <td>110000</td>\n",
       "    </tr>\n",
       "  </tbody>\n",
       "</table>\n",
       "</div>"
      ],
      "text/plain": [
       "            Position  Level  Salary\n",
       "0   Business Analyst      1   45000\n",
       "1  Junior Consultant      2   50000\n",
       "2  Senior Consultant      3   60000\n",
       "3            Manager      4   80000\n",
       "4    Country Manager      5  110000"
      ]
     },
     "execution_count": 188,
     "metadata": {},
     "output_type": "execute_result"
    }
   ],
   "source": [
    "#Get the dataset\n",
    "dataset = pd.read_csv('Position_Salaries.csv')\n",
    "#Get a glimpse of the Dataset\n",
    "dataset.head()"
   ]
  },
  {
   "cell_type": "markdown",
   "metadata": {},
   "source": [
    "### Feature Extraction"
   ]
  },
  {
   "cell_type": "code",
   "execution_count": 189,
   "metadata": {
    "execution": {
     "iopub.execute_input": "2022-02-07T08:59:16.822739Z",
     "iopub.status.busy": "2022-02-07T08:59:16.822329Z",
     "iopub.status.idle": "2022-02-07T08:59:16.827806Z",
     "shell.execute_reply": "2022-02-07T08:59:16.826885Z",
     "shell.execute_reply.started": "2022-02-07T08:59:16.822701Z"
    },
    "id": "ake97iPi8_I7"
   },
   "outputs": [],
   "source": [
    "#Dependent feature\n",
    "y = np.asarray(dataset['Salary'].values.tolist()) \n",
    "\n",
    "# Independent Feature\n",
    "X = np.asarray(dataset['Level'].values.tolist())"
   ]
  },
  {
   "cell_type": "code",
   "execution_count": 190,
   "metadata": {
    "execution": {
     "iopub.execute_input": "2022-02-07T08:59:16.829677Z",
     "iopub.status.busy": "2022-02-07T08:59:16.829116Z",
     "iopub.status.idle": "2022-02-07T08:59:16.836801Z",
     "shell.execute_reply": "2022-02-07T08:59:16.835929Z",
     "shell.execute_reply.started": "2022-02-07T08:59:16.829638Z"
    },
    "id": "kg7PYvQJw0Ry"
   },
   "outputs": [],
   "source": [
    "# Reshaping the independent feature\n",
    "X = X.reshape(-1,1)"
   ]
  },
  {
   "cell_type": "code",
   "execution_count": 191,
   "metadata": {
    "execution": {
     "iopub.execute_input": "2022-02-07T08:59:16.838853Z",
     "iopub.status.busy": "2022-02-07T08:59:16.838555Z",
     "iopub.status.idle": "2022-02-07T08:59:16.847009Z",
     "shell.execute_reply": "2022-02-07T08:59:16.846219Z",
     "shell.execute_reply.started": "2022-02-07T08:59:16.838826Z"
    },
    "id": "iZhxeXCPi8Rd"
   },
   "outputs": [],
   "source": [
    "#Reshaping the Dependent features\n",
    "y = y.reshape(len(y),1) # Changing the shape from (50,) to (50,1)"
   ]
  },
  {
   "cell_type": "code",
   "execution_count": 192,
   "metadata": {
    "execution": {
     "iopub.execute_input": "2022-02-07T08:59:22.905996Z",
     "iopub.status.busy": "2022-02-07T08:59:22.905651Z",
     "iopub.status.idle": "2022-02-07T08:59:22.910889Z",
     "shell.execute_reply": "2022-02-07T08:59:22.910184Z",
     "shell.execute_reply.started": "2022-02-07T08:59:22.905964Z"
    },
    "id": "DaSyDT_fGlf5",
    "outputId": "0027396b-6d9a-4e27-d182-bd1e0de2baf8"
   },
   "outputs": [
    {
     "name": "stdout",
     "output_type": "stream",
     "text": [
      "The shape of the independent fatures are  (10, 1)\n",
      "The shape of the dependent fatures are  (10, 1)\n"
     ]
    }
   ],
   "source": [
    "#Get the shapes of X and y\n",
    "print(\"The shape of the independent fatures are \",X.shape)\n",
    "print(\"The shape of the dependent fatures are \",y.shape)"
   ]
  },
  {
   "cell_type": "markdown",
   "metadata": {
    "id": "TEAUmgwclN5d"
   },
   "source": [
    "### Utility Methods"
   ]
  },
  {
   "cell_type": "code",
   "execution_count": 194,
   "metadata": {
    "execution": {
     "iopub.execute_input": "2022-02-07T08:59:24.368183Z",
     "iopub.status.busy": "2022-02-07T08:59:24.367496Z",
     "iopub.status.idle": "2022-02-07T08:59:24.374957Z",
     "shell.execute_reply": "2022-02-07T08:59:24.374123Z",
     "shell.execute_reply.started": "2022-02-07T08:59:24.368128Z"
    },
    "id": "Rl7z014BRVlI"
   },
   "outputs": [],
   "source": [
    "# The method poly_features concatenates polynomials of independent feature to X\n",
    "\n",
    "def poly_features(features, X):\n",
    "    data = pd.DataFrame(np.zeros((X.shape[0],features)))\n",
    "    for i in range(1,features+1):\n",
    "        data.iloc[:,i-1] = (X**i).reshape(-1,1)\n",
    "        X_poly = np.array(data.values.tolist())\n",
    "    return X_poly"
   ]
  },
  {
   "cell_type": "code",
   "execution_count": 195,
   "metadata": {
    "execution": {
     "iopub.execute_input": "2022-02-07T09:10:41.376437Z",
     "iopub.status.busy": "2022-02-07T09:10:41.375515Z",
     "iopub.status.idle": "2022-02-07T09:10:41.386193Z",
     "shell.execute_reply": "2022-02-07T09:10:41.385313Z",
     "shell.execute_reply.started": "2022-02-07T09:10:41.376386Z"
    }
   },
   "outputs": [
    {
     "data": {
      "text/plain": [
       "(10,)"
      ]
     },
     "execution_count": 195,
     "metadata": {},
     "output_type": "execute_result"
    }
   ],
   "source": [
    "x = np.array([i for i in range(10)])\n",
    "x.shape"
   ]
  },
  {
   "cell_type": "code",
   "execution_count": 196,
   "metadata": {
    "execution": {
     "iopub.execute_input": "2022-02-07T09:01:52.474004Z",
     "iopub.status.busy": "2022-02-07T09:01:52.47359Z",
     "iopub.status.idle": "2022-02-07T09:01:52.482969Z",
     "shell.execute_reply": "2022-02-07T09:01:52.482071Z",
     "shell.execute_reply.started": "2022-02-07T09:01:52.47397Z"
    }
   },
   "outputs": [
    {
     "data": {
      "text/plain": [
       "array([[    0,     0,     0,     0,     0],\n",
       "       [    1,     1,     1,     1,     1],\n",
       "       [    2,     4,     8,    16,    32],\n",
       "       [    3,     9,    27,    81,   243],\n",
       "       [    4,    16,    64,   256,  1024],\n",
       "       [    5,    25,   125,   625,  3125],\n",
       "       [    6,    36,   216,  1296,  7776],\n",
       "       [    7,    49,   343,  2401, 16807],\n",
       "       [    8,    64,   512,  4096, 32768],\n",
       "       [    9,    81,   729,  6561, 59049]])"
      ]
     },
     "execution_count": 196,
     "metadata": {},
     "output_type": "execute_result"
    }
   ],
   "source": [
    "x_poly = poly_features(5,x)\n",
    "x_poly"
   ]
  },
  {
   "cell_type": "code",
   "execution_count": 253,
   "metadata": {
    "execution": {
     "iopub.execute_input": "2022-02-07T09:35:46.537099Z",
     "iopub.status.busy": "2022-02-07T09:35:46.536579Z",
     "iopub.status.idle": "2022-02-07T09:35:46.5451Z",
     "shell.execute_reply": "2022-02-07T09:35:46.544148Z",
     "shell.execute_reply.started": "2022-02-07T09:35:46.537061Z"
    },
    "id": "sMFw3Ps4IjIY"
   },
   "outputs": [],
   "source": [
    "# The method \"split_data\" splits the given dataset into trainset and testset\n",
    "\n",
    "def split_data(X,y,test_size=0.2,random_state=0):\n",
    "    np.random.seed(random_state)                  #set the seed for reproducible results\n",
    "    indices = np.random.permutation(len(X))       #shuffling the indices\n",
    "    data_test_size = int(X.shape[0] * test_size)  #Get the test size\n",
    "\n",
    "    #Separating the Independent and Dependent features into the Train and Test Set\n",
    "    train_indices = indices[data_test_size:]\n",
    "    test_indices = indices[:data_test_size]\n",
    "    X_train = X[train_indices]\n",
    "    y_train = y[train_indices]\n",
    "    X_test = X[test_indices]\n",
    "    y_test = y[test_indices]\n",
    "    return X_train, y_train, X_test, y_test"
   ]
  },
  {
   "cell_type": "code",
   "execution_count": 254,
   "metadata": {
    "execution": {
     "iopub.execute_input": "2022-02-07T09:35:46.800161Z",
     "iopub.status.busy": "2022-02-07T09:35:46.799457Z",
     "iopub.status.idle": "2022-02-07T09:35:46.805252Z",
     "shell.execute_reply": "2022-02-07T09:35:46.804412Z",
     "shell.execute_reply.started": "2022-02-07T09:35:46.800058Z"
    },
    "id": "RvTLCV2VqAZ4"
   },
   "outputs": [],
   "source": [
    "# The method pred_to_plot returns predictions on given values and helps in\n",
    "# better visualization\n",
    "def pred_to_plot(W_trained, X):\n",
    "    prediction_values = list()\n",
    "    for i in range(X.shape[0]):\n",
    "        value = regressor.predict(W_trained,X[i])\n",
    "        prediction_values.append(value)\n",
    "    return prediction_values"
   ]
  },
  {
   "cell_type": "markdown",
   "metadata": {
    "id": "pjKljivClbWf"
   },
   "source": [
    "### polynomialRegression Class"
   ]
  },
  {
   "cell_type": "code",
   "execution_count": 255,
   "metadata": {
    "execution": {
     "iopub.execute_input": "2022-02-07T09:35:47.413017Z",
     "iopub.status.busy": "2022-02-07T09:35:47.412266Z",
     "iopub.status.idle": "2022-02-07T09:35:47.433508Z",
     "shell.execute_reply": "2022-02-07T09:35:47.432614Z",
     "shell.execute_reply.started": "2022-02-07T09:35:47.412979Z"
    },
    "id": "mBt41FyrunIl"
   },
   "outputs": [],
   "source": [
    "class polynomialRegression():\n",
    "\n",
    "    def __init__(self):\n",
    "        #No instance Variables required\n",
    "        pass\n",
    "\n",
    "    def forward(self,X,y,W):\n",
    "        \"\"\"\n",
    "        Parameters:\n",
    "        X (array) : Independent Features\n",
    "        y (array) : Dependent Features/ Target Variable\n",
    "        W (array) : Weights \n",
    "\n",
    "        Returns:\n",
    "        loss (float) : Calculated Sqaured Error Loss for y and y_pred\n",
    "        y_pred (array) : Predicted Target Variable\n",
    "        \"\"\"\n",
    "        y_pred = sum(W * X)\n",
    "        loss = ((y_pred-y)**2)/2    #Loss = Squared Error, we introduce 1/2 for ease in the calculation\n",
    "        return loss, y_pred\n",
    "\n",
    "    def updateWeights(self,X,y_pred,y_true,W,alpha,index):\n",
    "        \"\"\"\n",
    "        Parameters:\n",
    "        X (array) : Independent Features\n",
    "        y_pred (array) : Predicted Target Variable\n",
    "        y_true (array) : Dependent Features/ Target Variable\n",
    "        W (array) : Weights\n",
    "        alpha (float) : learning rate\n",
    "        index (int) : Index to fetch the corresponding values of W, X and y \n",
    "\n",
    "        Returns:\n",
    "        W (array) : Update Values of Weight\n",
    "        \"\"\"\n",
    "        for i in range(X.shape[1]):\n",
    "          #alpha = learning rate, rest of the RHS is derivative of loss function\n",
    "          W[i] -= (alpha * (y_pred-y_true[index])*X[index][i]) \n",
    "        return W\n",
    "\n",
    "    def train(self, X, y, epochs=10, alpha=0.001, random_state=0):\n",
    "        \"\"\"\n",
    "        Parameters:\n",
    "        X (array) : Independent Feature\n",
    "        y (array) : Dependent Features/ Target Variable\n",
    "        epochs (int) : Number of epochs for training, default value is 10\n",
    "        alpha (float) : learning rate, default value is 0.001\n",
    "\n",
    "        Returns:\n",
    "        y_pred (array) : Predicted Target Variable\n",
    "        loss (float) : Calculated Sqaured Error Loss for y and y_pred\n",
    "        \"\"\"\n",
    "\n",
    "        num_rows = X.shape[0] #Number of Rows\n",
    "        num_cols = X.shape[1] #Number of Columns \n",
    "        W = np.random.randn(1,num_cols) / np.sqrt(num_rows) #Weight Initialization\n",
    "\n",
    "        #Calculating Loss and Updating Weights\n",
    "        train_loss = []\n",
    "        num_epochs = []\n",
    "        train_indices = [i for i in range(X.shape[0])]\n",
    "        for j in range(epochs):\n",
    "            cost=0\n",
    "            np.random.seed(random_state)\n",
    "            np.random.shuffle(train_indices)\n",
    "            for i in train_indices:\n",
    "                loss, y_pred = self.forward(X[i],y[i],W[0])\n",
    "                cost+=loss\n",
    "                W[0] = self.updateWeights(X,y_pred,y,W[0],alpha,i)\n",
    "                train_loss.append(cost)\n",
    "                num_epochs.append(j)\n",
    "        return W[0], train_loss, num_epochs\n",
    "\n",
    "    def test(self, X_test, y_test, W_trained):\n",
    "        \"\"\"\n",
    "        Parameters:\n",
    "        X_test (array) : Independent Features from the Test Set\n",
    "        y_test (array) : Dependent Features/ Target Variable from the Test Set\n",
    "        W_trained (array) : Trained Weights\n",
    "        test_indices (list) : Index to fetch the corresponding values of W_trained,\n",
    "                              X_test and y_test \n",
    "\n",
    "        Returns:\n",
    "        test_pred (list) : Predicted Target Variable\n",
    "        test_loss (list) : Calculated Sqaured Error Loss for y and y_pred\n",
    "        \"\"\"\n",
    "        test_pred = []\n",
    "        test_loss = []\n",
    "        test_indices = [i for i in range(X_test.shape[0])]\n",
    "        for i in test_indices:\n",
    "            loss, y_test_pred = self.forward(X_test[i], W_trained, y_test[i])\n",
    "            test_pred.append(y_test_pred)\n",
    "            test_loss.append(loss)\n",
    "        return test_pred, test_loss\n",
    "    \n",
    "\n",
    "    def predict(self, W_trained, X_sample):\n",
    "        prediction = sum(W_trained * X_sample)\n",
    "        return prediction\n",
    "\n",
    "    def plotLoss(self, loss, epochs):\n",
    "        \"\"\"\n",
    "        Parameters:\n",
    "        loss (list) : Calculated Sqaured Error Loss for y and y_pred\n",
    "        epochs (list): Number of Epochs\n",
    "\n",
    "        Returns: None\n",
    "        Plots a graph of Loss vs Epochs\n",
    "        \"\"\"\n",
    "        plt.plot(epochs, loss)\n",
    "        plt.xlabel('Number of Epochs')\n",
    "        plt.ylabel('Loss')\n",
    "        plt.title('Plot Loss')\n",
    "        plt.show()\n"
   ]
  },
  {
   "cell_type": "markdown",
   "metadata": {
    "id": "bFwXfcNtU-7w"
   },
   "source": [
    "### Polynomial Regression (N=4)"
   ]
  },
  {
   "cell_type": "code",
   "execution_count": 256,
   "metadata": {
    "execution": {
     "iopub.execute_input": "2022-02-07T09:37:15.24834Z",
     "iopub.status.busy": "2022-02-07T09:37:15.247922Z",
     "iopub.status.idle": "2022-02-07T09:37:15.252854Z",
     "shell.execute_reply": "2022-02-07T09:37:15.252023Z",
     "shell.execute_reply.started": "2022-02-07T09:37:15.248299Z"
    },
    "id": "m7vCTpzGObUr"
   },
   "outputs": [],
   "source": [
    "# Independent Feature\n",
    "X = np.asarray(dataset['Level'].values.tolist())"
   ]
  },
  {
   "cell_type": "code",
   "execution_count": 257,
   "metadata": {
    "execution": {
     "iopub.execute_input": "2022-02-07T09:37:15.257621Z",
     "iopub.status.busy": "2022-02-07T09:37:15.257264Z",
     "iopub.status.idle": "2022-02-07T09:37:15.2655Z",
     "shell.execute_reply": "2022-02-07T09:37:15.264725Z",
     "shell.execute_reply.started": "2022-02-07T09:37:15.257564Z"
    },
    "id": "Rvpp58TTObU0"
   },
   "outputs": [],
   "source": [
    "# Reshaping the independent feature\n",
    "X = X.reshape(-1,1)"
   ]
  },
  {
   "cell_type": "code",
   "execution_count": 258,
   "metadata": {
    "execution": {
     "iopub.execute_input": "2022-02-07T09:37:16.150405Z",
     "iopub.status.busy": "2022-02-07T09:37:16.149783Z",
     "iopub.status.idle": "2022-02-07T09:37:16.156771Z",
     "shell.execute_reply": "2022-02-07T09:37:16.155723Z",
     "shell.execute_reply.started": "2022-02-07T09:37:16.150368Z"
    },
    "id": "Ig7uR_ylT6_Q"
   },
   "outputs": [],
   "source": [
    "# Constructing the polynomials of our Independent features \n",
    "X_poly = poly_features(4,X)"
   ]
  },
  {
   "cell_type": "code",
   "execution_count": 259,
   "metadata": {
    "execution": {
     "iopub.execute_input": "2022-02-07T09:37:20.609652Z",
     "iopub.status.busy": "2022-02-07T09:37:20.609043Z",
     "iopub.status.idle": "2022-02-07T09:37:20.613903Z",
     "shell.execute_reply": "2022-02-07T09:37:20.613052Z",
     "shell.execute_reply.started": "2022-02-07T09:37:20.609604Z"
    },
    "id": "WHGaikOGkSYQ"
   },
   "outputs": [],
   "source": [
    "#Adding the feature X0 = 1, so we have the equation: y =  W0 + (W1 * X1) + (W2 * (X1**2))\n",
    "X_poly = np.concatenate((X_poly,np.ones((10,1))), axis = 1)"
   ]
  },
  {
   "cell_type": "code",
   "execution_count": 260,
   "metadata": {
    "execution": {
     "iopub.execute_input": "2022-02-07T09:37:30.263284Z",
     "iopub.status.busy": "2022-02-07T09:37:30.262662Z",
     "iopub.status.idle": "2022-02-07T09:37:30.26974Z",
     "shell.execute_reply": "2022-02-07T09:37:30.26887Z",
     "shell.execute_reply.started": "2022-02-07T09:37:30.263248Z"
    },
    "id": "fNkI1FZ9US_f",
    "outputId": "22cd76f5-cb66-4d43-fafb-400c8b7076df"
   },
   "outputs": [
    {
     "data": {
      "text/plain": [
       "array([[1.000e+00, 1.000e+00, 1.000e+00, 1.000e+00, 1.000e+00],\n",
       "       [2.000e+00, 4.000e+00, 8.000e+00, 1.600e+01, 1.000e+00],\n",
       "       [3.000e+00, 9.000e+00, 2.700e+01, 8.100e+01, 1.000e+00],\n",
       "       [4.000e+00, 1.600e+01, 6.400e+01, 2.560e+02, 1.000e+00],\n",
       "       [5.000e+00, 2.500e+01, 1.250e+02, 6.250e+02, 1.000e+00],\n",
       "       [6.000e+00, 3.600e+01, 2.160e+02, 1.296e+03, 1.000e+00],\n",
       "       [7.000e+00, 4.900e+01, 3.430e+02, 2.401e+03, 1.000e+00],\n",
       "       [8.000e+00, 6.400e+01, 5.120e+02, 4.096e+03, 1.000e+00],\n",
       "       [9.000e+00, 8.100e+01, 7.290e+02, 6.561e+03, 1.000e+00],\n",
       "       [1.000e+01, 1.000e+02, 1.000e+03, 1.000e+04, 1.000e+00]])"
      ]
     },
     "execution_count": 260,
     "metadata": {},
     "output_type": "execute_result"
    }
   ],
   "source": [
    "X_poly"
   ]
  },
  {
   "cell_type": "code",
   "execution_count": 261,
   "metadata": {
    "execution": {
     "iopub.execute_input": "2022-02-07T09:37:30.272649Z",
     "iopub.status.busy": "2022-02-07T09:37:30.272013Z",
     "iopub.status.idle": "2022-02-07T09:37:30.283388Z",
     "shell.execute_reply": "2022-02-07T09:37:30.282411Z",
     "shell.execute_reply.started": "2022-02-07T09:37:30.272584Z"
    },
    "id": "B_A9RqEVvGbU",
    "outputId": "0501ff00-0a5a-462e-afb2-1564a792e0ee"
   },
   "outputs": [
    {
     "data": {
      "text/plain": [
       "array([[  45000],\n",
       "       [  50000],\n",
       "       [  60000],\n",
       "       [  80000],\n",
       "       [ 110000],\n",
       "       [ 150000],\n",
       "       [ 200000],\n",
       "       [ 300000],\n",
       "       [ 500000],\n",
       "       [1000000]])"
      ]
     },
     "execution_count": 261,
     "metadata": {},
     "output_type": "execute_result"
    }
   ],
   "source": [
    "y"
   ]
  },
  {
   "cell_type": "code",
   "execution_count": 262,
   "metadata": {
    "execution": {
     "iopub.execute_input": "2022-02-07T09:37:30.332725Z",
     "iopub.status.busy": "2022-02-07T09:37:30.332356Z",
     "iopub.status.idle": "2022-02-07T09:37:30.33701Z",
     "shell.execute_reply": "2022-02-07T09:37:30.33618Z",
     "shell.execute_reply.started": "2022-02-07T09:37:30.332694Z"
    },
    "id": "SeUC0VYImNlQ"
   },
   "outputs": [],
   "source": [
    "#Splitting the dataset\n",
    "X_train, y_train, X_test, y_test = split_data(X_poly,y)"
   ]
  },
  {
   "cell_type": "code",
   "execution_count": 263,
   "metadata": {
    "execution": {
     "iopub.execute_input": "2022-02-07T09:37:30.338944Z",
     "iopub.status.busy": "2022-02-07T09:37:30.338525Z",
     "iopub.status.idle": "2022-02-07T09:37:30.348367Z",
     "shell.execute_reply": "2022-02-07T09:37:30.347478Z",
     "shell.execute_reply.started": "2022-02-07T09:37:30.338905Z"
    },
    "id": "2UU50V05mRoN"
   },
   "outputs": [],
   "source": [
    "#declaring the \"regressor\" as an object of the class LinearRegression\n",
    "regressor = polynomialRegression()"
   ]
  },
  {
   "cell_type": "code",
   "execution_count": 264,
   "metadata": {
    "execution": {
     "iopub.execute_input": "2022-02-07T09:37:30.349891Z",
     "iopub.status.busy": "2022-02-07T09:37:30.349433Z",
     "iopub.status.idle": "2022-02-07T09:37:30.938644Z",
     "shell.execute_reply": "2022-02-07T09:37:30.937606Z",
     "shell.execute_reply.started": "2022-02-07T09:37:30.34986Z"
    },
    "id": "5wLjNkQnusqh"
   },
   "outputs": [],
   "source": [
    "#Training \n",
    "W_trained, train_loss, num_epochs = regressor.train(X_train, y_train, epochs=1000, alpha=1e-9)"
   ]
  },
  {
   "cell_type": "code",
   "execution_count": 265,
   "metadata": {
    "execution": {
     "iopub.execute_input": "2022-02-07T09:37:30.94018Z",
     "iopub.status.busy": "2022-02-07T09:37:30.939758Z",
     "iopub.status.idle": "2022-02-07T09:37:30.944445Z",
     "shell.execute_reply": "2022-02-07T09:37:30.943358Z",
     "shell.execute_reply.started": "2022-02-07T09:37:30.94015Z"
    },
    "id": "_JQSySiyxJ4n"
   },
   "outputs": [],
   "source": [
    "#Testing on the Test Dataset\n",
    "test_pred, test_loss = regressor.test(X_test, y_test, W_trained)"
   ]
  },
  {
   "cell_type": "code",
   "execution_count": 266,
   "metadata": {
    "execution": {
     "iopub.execute_input": "2022-02-07T09:37:30.947906Z",
     "iopub.status.busy": "2022-02-07T09:37:30.947537Z",
     "iopub.status.idle": "2022-02-07T09:37:30.959782Z",
     "shell.execute_reply": "2022-02-07T09:37:30.958674Z",
     "shell.execute_reply.started": "2022-02-07T09:37:30.947873Z"
    },
    "id": "jH63VP1uMs1Z",
    "outputId": "1ee2e59b-e3c4-42c7-e019-7706023f5689"
   },
   "outputs": [
    {
     "data": {
      "text/plain": [
       "array([[1.000e+00, 1.000e+00, 1.000e+00, 1.000e+00, 1.000e+00],\n",
       "       [2.000e+00, 4.000e+00, 8.000e+00, 1.600e+01, 1.000e+00],\n",
       "       [3.000e+00, 9.000e+00, 2.700e+01, 8.100e+01, 1.000e+00],\n",
       "       [4.000e+00, 1.600e+01, 6.400e+01, 2.560e+02, 1.000e+00],\n",
       "       [5.000e+00, 2.500e+01, 1.250e+02, 6.250e+02, 1.000e+00],\n",
       "       [6.000e+00, 3.600e+01, 2.160e+02, 1.296e+03, 1.000e+00],\n",
       "       [7.000e+00, 4.900e+01, 3.430e+02, 2.401e+03, 1.000e+00],\n",
       "       [8.000e+00, 6.400e+01, 5.120e+02, 4.096e+03, 1.000e+00],\n",
       "       [9.000e+00, 8.100e+01, 7.290e+02, 6.561e+03, 1.000e+00],\n",
       "       [1.000e+01, 1.000e+02, 1.000e+03, 1.000e+04, 1.000e+00]])"
      ]
     },
     "execution_count": 266,
     "metadata": {},
     "output_type": "execute_result"
    }
   ],
   "source": [
    "X_poly"
   ]
  },
  {
   "cell_type": "markdown",
   "metadata": {
    "id": "LbXBW88kpjmN"
   },
   "source": [
    "#### Visualizing Results"
   ]
  },
  {
   "cell_type": "code",
   "execution_count": 267,
   "metadata": {
    "execution": {
     "iopub.execute_input": "2022-02-07T09:37:30.962116Z",
     "iopub.status.busy": "2022-02-07T09:37:30.961516Z",
     "iopub.status.idle": "2022-02-07T09:37:30.968867Z",
     "shell.execute_reply": "2022-02-07T09:37:30.967814Z",
     "shell.execute_reply.started": "2022-02-07T09:37:30.96208Z"
    },
    "id": "13Xa6LURUGDX"
   },
   "outputs": [],
   "source": [
    "pred_plot = pred_to_plot(W_trained,X_poly)"
   ]
  },
  {
   "cell_type": "code",
   "execution_count": 268,
   "metadata": {
    "execution": {
     "iopub.execute_input": "2022-02-07T09:37:30.970775Z",
     "iopub.status.busy": "2022-02-07T09:37:30.970211Z",
     "iopub.status.idle": "2022-02-07T09:37:30.984773Z",
     "shell.execute_reply": "2022-02-07T09:37:30.98383Z",
     "shell.execute_reply.started": "2022-02-07T09:37:30.970739Z"
    },
    "id": "FN5hLy2qM6mf",
    "outputId": "a90dc23f-c8d9-42bb-d1c3-92c3c97cfafa"
   },
   "outputs": [
    {
     "data": {
      "text/plain": [
       "[101.56686988148302,\n",
       " 1570.332736753576,\n",
       " 7876.252690310476,\n",
       " 24783.645533405484,\n",
       " 60351.39230382515,\n",
       " 124932.93627428928,\n",
       " 231176.28295245094,\n",
       " 394024.0000808964,\n",
       " 630713.2176371454,\n",
       " 960775.6278336504]"
      ]
     },
     "execution_count": 268,
     "metadata": {},
     "output_type": "execute_result"
    }
   ],
   "source": [
    "pred_plot"
   ]
  },
  {
   "cell_type": "code",
   "execution_count": 269,
   "metadata": {
    "execution": {
     "iopub.execute_input": "2022-02-07T09:37:30.986516Z",
     "iopub.status.busy": "2022-02-07T09:37:30.98611Z",
     "iopub.status.idle": "2022-02-07T09:37:31.147409Z",
     "shell.execute_reply": "2022-02-07T09:37:31.146641Z",
     "shell.execute_reply.started": "2022-02-07T09:37:30.986487Z"
    },
    "id": "Ae5Hkdxeorhn",
    "outputId": "7360ebfc-2369-49a2-e6d5-9a75a0909c59"
   },
   "outputs": [
    {
     "data": {
      "image/png": "[encoded data removed]",
      "text/plain": [
       "<Figure size 432x288 with 1 Axes>"
      ]
     },
     "metadata": {
      "needs_background": "light"
     },
     "output_type": "display_data"
    }
   ],
   "source": [
    "plt.scatter(X_poly[:,0], y, color = 'red')\n",
    "plt.plot(X_poly[:,0], pred_plot, color = 'blue')\n",
    "plt.title('Naive Polynomial Regression (N=4)')\n",
    "plt.xlabel('Position level')\n",
    "plt.ylabel('Salary')\n",
    "plt.show()"
   ]
  }
 ],
 "metadata": {
  "kernelspec": {
   "display_name": "Python 3",
   "language": "python",
   "name": "python3"
  },
  "language_info": {
   "codemirror_mode": {
    "name": "ipython",
    "version": 3
   },
   "file_extension": ".py",
   "mimetype": "text/x-python",
   "name": "python",
   "nbconvert_exporter": "python",
   "pygments_lexer": "ipython3",
   "version": "3.8.8"
  }
 },
 "nbformat": 4,
 "nbformat_minor": 4
}
